{
 "cells": [
  {
   "cell_type": "markdown",
   "id": "bb713e02",
   "metadata": {},
   "source": [
    "#### MF728 - Final Project\n",
    "Author: Chi-Yuan Peng"
   ]
  },
  {
   "cell_type": "markdown",
   "id": "df308f30",
   "metadata": {},
   "source": [
    "# Package Import"
   ]
  },
  {
   "cell_type": "code",
   "execution_count": 3,
   "id": "db77bef2",
   "metadata": {},
   "outputs": [],
   "source": [
    "import numpy as np\n",
    "import pandas as pd\n",
    "import matplotlib.pyplot as plt\n",
    "\n",
    "import time\n",
    "import pandas_datareader.data as web\n",
    "import datetime\n",
    "\n",
    "import os\n",
    "\n",
    "from scipy.optimize import minimize\n",
    "\n",
    "from xgboost import XGBRegressor\n",
    "from sklearn.model_selection import train_test_split\n",
    "from sklearn.metrics import mean_squared_error\n",
    "\n",
    "from statsmodels.tsa.api import VAR\n",
    "from scipy.stats import norm\n",
    "from tqdm import tqdm\n",
    "import cvxpy as cp"
   ]
  },
  {
   "cell_type": "markdown",
   "id": "ad2755d4",
   "metadata": {},
   "source": [
    "# Step 1. Data Integration"
   ]
  },
  {
   "cell_type": "markdown",
   "id": "5c989e19",
   "metadata": {},
   "source": [
    "## US treasuries\n",
    "soruce: https://home.treasury.gov/policy-issues/financing-the-government/interest-rate-statistics?data=yield"
   ]
  },
  {
   "cell_type": "code",
   "execution_count": null,
   "id": "fb4a2c1d",
   "metadata": {},
   "outputs": [],
   "source": [
    "ls_rates = ['daily_treasury_yield_curve','daily_treasury_bill_rates','daily_treasury_long_term_rate','daily_treasury_real_yield_curve','daily_treasury_real_long_term']\n",
    "ls_years = ['2015','2016','2017','2018','2019','2020','2021','2022','2023','2024']\n",
    "\n",
    "for rate in ls_rates:\n",
    "    df_all = pd.DataFrame()\n",
    "    for year in ls_years:\n",
    "        html_head = f'https://home.treasury.gov/resource-center/data-chart-center/interest-rates/TextView?type={rate}&field_tdr_date_value={year}'\n",
    "        df = pd.read_html(html_head)[0]\n",
    "        if df_all.empty:\n",
    "            df_all = df\n",
    "        else:\n",
    "            df_all = pd.concat([df_all, df])\n",
    "    df_all.to_pickle(f'US treasuries(raw)/{rate}.pkl.zip', compression='zip')\n",
    "    time.sleep(2)  # Sleep for 2 seconds between requests to avoid overwhelming the server"
   ]
  },
  {
   "cell_type": "code",
   "execution_count": null,
   "id": "325c79bf",
   "metadata": {},
   "outputs": [],
   "source": [
    "path = \"raw data/US treasuries/\" \n",
    "df_all = pd.DataFrame()\n",
    "for file in os.listdir(path):\n",
    "    rate = file[:-8]\n",
    "    print(path+file)\n",
    "    df = pd.read_pickle(path+file)\n",
    "    ls_missing = list(df.columns[df.isnull().sum() == df.shape[0]])\n",
    "    df.drop(columns=ls_missing, inplace=True)\n",
    "    df = pd.melt(df, id_vars=[\"Date\"], var_name=\"maturity\", value_name=\"rate\")\n",
    "    print(df['maturity'].unique())\n",
    "    df['yield name'] = rate.replace(\"_\", \" \")\n",
    "    if df_all.empty:\n",
    "        df_all = df.copy()\n",
    "    else:\n",
    "        df_all = pd.concat([df_all, df], axis=0)"
   ]
  },
  {
   "cell_type": "code",
   "execution_count": null,
   "id": "58893b21",
   "metadata": {},
   "outputs": [],
   "source": [
    "df_all = df_all[[\"Date\", \"maturity\", \"yield name\", \"rate\"]]\n",
    "df_all.dropna(inplace=True)\n",
    "dict_coupon_equivalent = {'COUPON EQUIVALENT': '4 WEEKS COUPON EQUIVALENT',\n",
    "                            'COUPON EQUIVALENT.1': '6 WEEKS COUPON EQUIVALENT',\n",
    "                            'COUPON EQUIVALENT.2': '8 WEEKS COUPON EQUIVALENT',\n",
    "                            'COUPON EQUIVALENT.3': '13 WEEKS COUPON EQUIVALENT',\n",
    "                            'COUPON EQUIVALENT.4': '17 WEEKS COUPON EQUIVALENT',\n",
    "                            'COUPON EQUIVALENT.5': '26 WEEKS COUPON EQUIVALENT',\n",
    "                            'COUPON EQUIVALENT.6': '52 WEEKS COUPON EQUIVALENT'}\n",
    "\n",
    "df_all['maturity'] = df_all['maturity'].replace(dict_coupon_equivalent)\n",
    "for i in df_all.groupby('yield name'):\n",
    "    print(i[0])\n",
    "    print(i[1].maturity.unique())\n",
    "df_all1 = df_all.query(\"`yield name` != 'daily treasury long term rate'\")\n",
    "df_all1[[ 'yield name','maturity' ]].value_counts().to_frame()\n",
    "\n",
    "df_all1.to_csv(\"yield_curve.csv\", index=False)"
   ]
  },
  {
   "cell_type": "markdown",
   "id": "1ac9896a",
   "metadata": {},
   "source": [
    "## Macroeconomic"
   ]
  },
  {
   "cell_type": "code",
   "execution_count": null,
   "id": "1512a433",
   "metadata": {},
   "outputs": [
    {
     "name": "stderr",
     "output_type": "stream",
     "text": [
      "C:\\Users\\木木小呆猪\\AppData\\Local\\Temp\\ipykernel_25324\\2742748137.py:5: FutureWarning: DataFrame.fillna with 'method' is deprecated and will raise in a future version. Use obj.ffill() or obj.bfill() instead.\n",
      "  df_macro.fillna(method='ffill',inplace=True)\n"
     ]
    }
   ],
   "source": [
    "start = datetime.datetime(2015, 1, 1)\n",
    "end = datetime.datetime(2025, 1, 1)\n",
    "\n",
    "df_macro = web.DataReader(['GDP','CPIAUCSL','UNRATE','PCE'], 'fred', start, end)\n",
    "df_macro.fillna(method='ffill',inplace=True)\n",
    "df_macro.to_csv('raw data/macroeconomics.csv', index = False) "
   ]
  },
  {
   "cell_type": "markdown",
   "id": "fad29422",
   "metadata": {},
   "source": [
    "# Step 2. Yield Curve Modeling and Forecasting"
   ]
  },
  {
   "cell_type": "code",
   "execution_count": 4,
   "id": "f107ad47",
   "metadata": {},
   "outputs": [
    {
     "data": {
      "application/vnd.microsoft.datawrangler.viewer.v0+json": {
       "columns": [
        {
         "name": "Date",
         "rawType": "datetime64[ns]",
         "type": "datetime"
        },
        {
         "name": "1 Mo",
         "rawType": "float64",
         "type": "float"
        },
        {
         "name": "1 Yr",
         "rawType": "float64",
         "type": "float"
        },
        {
         "name": "10 YR",
         "rawType": "float64",
         "type": "float"
        },
        {
         "name": "10 Yr",
         "rawType": "float64",
         "type": "float"
        },
        {
         "name": "13 WEEKS BANK DISCOUNT",
         "rawType": "float64",
         "type": "float"
        },
        {
         "name": "13 WEEKS COUPON EQUIVALENT",
         "rawType": "float64",
         "type": "float"
        },
        {
         "name": "17 WEEKS BANK DISCOUNT",
         "rawType": "float64",
         "type": "float"
        },
        {
         "name": "17 WEEKS COUPON EQUIVALENT",
         "rawType": "float64",
         "type": "float"
        },
        {
         "name": "2 Mo",
         "rawType": "float64",
         "type": "float"
        },
        {
         "name": "2 Yr",
         "rawType": "float64",
         "type": "float"
        },
        {
         "name": "20 YR",
         "rawType": "float64",
         "type": "float"
        },
        {
         "name": "20 Yr",
         "rawType": "float64",
         "type": "float"
        },
        {
         "name": "26 WEEKS BANK DISCOUNT",
         "rawType": "float64",
         "type": "float"
        },
        {
         "name": "26 WEEKS COUPON EQUIVALENT",
         "rawType": "float64",
         "type": "float"
        },
        {
         "name": "3 Mo",
         "rawType": "float64",
         "type": "float"
        },
        {
         "name": "3 Yr",
         "rawType": "float64",
         "type": "float"
        },
        {
         "name": "30 YR",
         "rawType": "float64",
         "type": "float"
        },
        {
         "name": "30 Yr",
         "rawType": "float64",
         "type": "float"
        },
        {
         "name": "4 Mo",
         "rawType": "float64",
         "type": "float"
        },
        {
         "name": "4 WEEKS BANK DISCOUNT",
         "rawType": "float64",
         "type": "float"
        },
        {
         "name": "4 WEEKS COUPON EQUIVALENT",
         "rawType": "float64",
         "type": "float"
        },
        {
         "name": "5 YR",
         "rawType": "float64",
         "type": "float"
        },
        {
         "name": "5 Yr",
         "rawType": "float64",
         "type": "float"
        },
        {
         "name": "52 WEEKS BANK DISCOUNT",
         "rawType": "float64",
         "type": "float"
        },
        {
         "name": "52 WEEKS COUPON EQUIVALENT",
         "rawType": "float64",
         "type": "float"
        },
        {
         "name": "6 Mo",
         "rawType": "float64",
         "type": "float"
        },
        {
         "name": "7 YR",
         "rawType": "float64",
         "type": "float"
        },
        {
         "name": "7 Yr",
         "rawType": "float64",
         "type": "float"
        },
        {
         "name": "8 WEEKS BANK DISCOUNT",
         "rawType": "float64",
         "type": "float"
        },
        {
         "name": "8 WEEKS COUPON EQUIVALENT",
         "rawType": "float64",
         "type": "float"
        },
        {
         "name": "LT COMPOSITE (>10 Yrs)",
         "rawType": "float64",
         "type": "float"
        },
        {
         "name": "LT Real Average (10> Yrs)",
         "rawType": "float64",
         "type": "float"
        },
        {
         "name": "TREASURY 20-Yr CMT",
         "rawType": "float64",
         "type": "float"
        }
       ],
       "conversionMethod": "pd.DataFrame",
       "ref": "333c5771-4cc7-4087-81fd-fe02dbe6f19d",
       "rows": [
        [
         "2015-01-02 00:00:00",
         "0.02",
         "0.25",
         "0.41",
         "2.12",
         "0.02",
         "0.02",
         null,
         null,
         null,
         "0.66",
         "0.61",
         "2.41",
         "0.11",
         "0.11",
         "0.02",
         "1.07",
         "0.76",
         "2.69",
         null,
         "0.02",
         "0.02",
         "0.31",
         "1.61",
         "0.22",
         "0.22",
         "0.11",
         "0.37",
         "1.92",
         null,
         null,
         "2.48",
         "0.64",
         "2.41"
        ],
        [
         "2015-01-05 00:00:00",
         "0.02",
         "0.26",
         "0.4",
         "2.04",
         "0.03",
         "0.03",
         null,
         null,
         null,
         "0.68",
         "0.57",
         "2.32",
         "0.1",
         "0.1",
         "0.03",
         "1.06",
         "0.71",
         "2.6",
         null,
         "0.02",
         "0.02",
         "0.32",
         "1.57",
         "0.23",
         "0.23",
         "0.1",
         "0.36",
         "1.85",
         null,
         null,
         "2.4",
         "0.6",
         "2.32"
        ],
        [
         "2015-01-06 00:00:00",
         "0.02",
         "0.25",
         "0.41",
         "1.97",
         "0.03",
         "0.03",
         null,
         null,
         null,
         "0.65",
         "0.55",
         "2.25",
         "0.1",
         "0.1",
         "0.03",
         "1.02",
         "0.68",
         "2.52",
         null,
         "0.02",
         "0.02",
         "0.34",
         "1.5",
         "0.25",
         "0.25",
         "0.1",
         "0.36",
         "1.78",
         null,
         null,
         "2.32",
         "0.58",
         "2.25"
        ],
        [
         "2015-01-07 00:00:00",
         "0.02",
         "0.25",
         "0.39",
         "1.96",
         "0.03",
         "0.03",
         null,
         null,
         null,
         "0.62",
         "0.55",
         "2.25",
         "0.09",
         "0.09",
         "0.03",
         "1.0",
         "0.68",
         "2.52",
         null,
         "0.02",
         "0.02",
         "0.31",
         "1.47",
         "0.25",
         "0.25",
         "0.09",
         "0.35",
         "1.76",
         null,
         null,
         "2.32",
         "0.58",
         "2.25"
        ],
        [
         "2015-01-08 00:00:00",
         "0.01",
         "0.23",
         "0.41",
         "2.03",
         "0.03",
         "0.03",
         null,
         null,
         null,
         "0.62",
         "0.6",
         "2.33",
         "0.08",
         "0.08",
         "0.03",
         "1.0",
         "0.73",
         "2.59",
         null,
         "0.01",
         "0.01",
         "0.29",
         "1.5",
         "0.23",
         "0.23",
         "0.08",
         "0.38",
         "1.81",
         null,
         null,
         "2.39",
         "0.63",
         "2.33"
        ]
       ],
       "shape": {
        "columns": 33,
        "rows": 5
       }
      },
      "text/html": [
       "<div>\n",
       "<style scoped>\n",
       "    .dataframe tbody tr th:only-of-type {\n",
       "        vertical-align: middle;\n",
       "    }\n",
       "\n",
       "    .dataframe tbody tr th {\n",
       "        vertical-align: top;\n",
       "    }\n",
       "\n",
       "    .dataframe thead th {\n",
       "        text-align: right;\n",
       "    }\n",
       "</style>\n",
       "<table border=\"1\" class=\"dataframe\">\n",
       "  <thead>\n",
       "    <tr style=\"text-align: right;\">\n",
       "      <th>maturity</th>\n",
       "      <th>1 Mo</th>\n",
       "      <th>1 Yr</th>\n",
       "      <th>10 YR</th>\n",
       "      <th>10 Yr</th>\n",
       "      <th>13 WEEKS BANK DISCOUNT</th>\n",
       "      <th>13 WEEKS COUPON EQUIVALENT</th>\n",
       "      <th>17 WEEKS BANK DISCOUNT</th>\n",
       "      <th>17 WEEKS COUPON EQUIVALENT</th>\n",
       "      <th>2 Mo</th>\n",
       "      <th>2 Yr</th>\n",
       "      <th>...</th>\n",
       "      <th>52 WEEKS BANK DISCOUNT</th>\n",
       "      <th>52 WEEKS COUPON EQUIVALENT</th>\n",
       "      <th>6 Mo</th>\n",
       "      <th>7 YR</th>\n",
       "      <th>7 Yr</th>\n",
       "      <th>8 WEEKS BANK DISCOUNT</th>\n",
       "      <th>8 WEEKS COUPON EQUIVALENT</th>\n",
       "      <th>LT COMPOSITE (&gt;10 Yrs)</th>\n",
       "      <th>LT Real Average (10&gt; Yrs)</th>\n",
       "      <th>TREASURY 20-Yr CMT</th>\n",
       "    </tr>\n",
       "    <tr>\n",
       "      <th>Date</th>\n",
       "      <th></th>\n",
       "      <th></th>\n",
       "      <th></th>\n",
       "      <th></th>\n",
       "      <th></th>\n",
       "      <th></th>\n",
       "      <th></th>\n",
       "      <th></th>\n",
       "      <th></th>\n",
       "      <th></th>\n",
       "      <th></th>\n",
       "      <th></th>\n",
       "      <th></th>\n",
       "      <th></th>\n",
       "      <th></th>\n",
       "      <th></th>\n",
       "      <th></th>\n",
       "      <th></th>\n",
       "      <th></th>\n",
       "      <th></th>\n",
       "      <th></th>\n",
       "    </tr>\n",
       "  </thead>\n",
       "  <tbody>\n",
       "    <tr>\n",
       "      <th>2015-01-02</th>\n",
       "      <td>0.02</td>\n",
       "      <td>0.25</td>\n",
       "      <td>0.41</td>\n",
       "      <td>2.12</td>\n",
       "      <td>0.02</td>\n",
       "      <td>0.02</td>\n",
       "      <td>NaN</td>\n",
       "      <td>NaN</td>\n",
       "      <td>NaN</td>\n",
       "      <td>0.66</td>\n",
       "      <td>...</td>\n",
       "      <td>0.22</td>\n",
       "      <td>0.22</td>\n",
       "      <td>0.11</td>\n",
       "      <td>0.37</td>\n",
       "      <td>1.92</td>\n",
       "      <td>NaN</td>\n",
       "      <td>NaN</td>\n",
       "      <td>2.48</td>\n",
       "      <td>0.64</td>\n",
       "      <td>2.41</td>\n",
       "    </tr>\n",
       "    <tr>\n",
       "      <th>2015-01-05</th>\n",
       "      <td>0.02</td>\n",
       "      <td>0.26</td>\n",
       "      <td>0.40</td>\n",
       "      <td>2.04</td>\n",
       "      <td>0.03</td>\n",
       "      <td>0.03</td>\n",
       "      <td>NaN</td>\n",
       "      <td>NaN</td>\n",
       "      <td>NaN</td>\n",
       "      <td>0.68</td>\n",
       "      <td>...</td>\n",
       "      <td>0.23</td>\n",
       "      <td>0.23</td>\n",
       "      <td>0.10</td>\n",
       "      <td>0.36</td>\n",
       "      <td>1.85</td>\n",
       "      <td>NaN</td>\n",
       "      <td>NaN</td>\n",
       "      <td>2.40</td>\n",
       "      <td>0.60</td>\n",
       "      <td>2.32</td>\n",
       "    </tr>\n",
       "    <tr>\n",
       "      <th>2015-01-06</th>\n",
       "      <td>0.02</td>\n",
       "      <td>0.25</td>\n",
       "      <td>0.41</td>\n",
       "      <td>1.97</td>\n",
       "      <td>0.03</td>\n",
       "      <td>0.03</td>\n",
       "      <td>NaN</td>\n",
       "      <td>NaN</td>\n",
       "      <td>NaN</td>\n",
       "      <td>0.65</td>\n",
       "      <td>...</td>\n",
       "      <td>0.25</td>\n",
       "      <td>0.25</td>\n",
       "      <td>0.10</td>\n",
       "      <td>0.36</td>\n",
       "      <td>1.78</td>\n",
       "      <td>NaN</td>\n",
       "      <td>NaN</td>\n",
       "      <td>2.32</td>\n",
       "      <td>0.58</td>\n",
       "      <td>2.25</td>\n",
       "    </tr>\n",
       "    <tr>\n",
       "      <th>2015-01-07</th>\n",
       "      <td>0.02</td>\n",
       "      <td>0.25</td>\n",
       "      <td>0.39</td>\n",
       "      <td>1.96</td>\n",
       "      <td>0.03</td>\n",
       "      <td>0.03</td>\n",
       "      <td>NaN</td>\n",
       "      <td>NaN</td>\n",
       "      <td>NaN</td>\n",
       "      <td>0.62</td>\n",
       "      <td>...</td>\n",
       "      <td>0.25</td>\n",
       "      <td>0.25</td>\n",
       "      <td>0.09</td>\n",
       "      <td>0.35</td>\n",
       "      <td>1.76</td>\n",
       "      <td>NaN</td>\n",
       "      <td>NaN</td>\n",
       "      <td>2.32</td>\n",
       "      <td>0.58</td>\n",
       "      <td>2.25</td>\n",
       "    </tr>\n",
       "    <tr>\n",
       "      <th>2015-01-08</th>\n",
       "      <td>0.01</td>\n",
       "      <td>0.23</td>\n",
       "      <td>0.41</td>\n",
       "      <td>2.03</td>\n",
       "      <td>0.03</td>\n",
       "      <td>0.03</td>\n",
       "      <td>NaN</td>\n",
       "      <td>NaN</td>\n",
       "      <td>NaN</td>\n",
       "      <td>0.62</td>\n",
       "      <td>...</td>\n",
       "      <td>0.23</td>\n",
       "      <td>0.23</td>\n",
       "      <td>0.08</td>\n",
       "      <td>0.38</td>\n",
       "      <td>1.81</td>\n",
       "      <td>NaN</td>\n",
       "      <td>NaN</td>\n",
       "      <td>2.39</td>\n",
       "      <td>0.63</td>\n",
       "      <td>2.33</td>\n",
       "    </tr>\n",
       "  </tbody>\n",
       "</table>\n",
       "<p>5 rows × 33 columns</p>\n",
       "</div>"
      ],
      "text/plain": [
       "maturity    1 Mo  1 Yr  10 YR  10 Yr  13 WEEKS BANK DISCOUNT  \\\n",
       "Date                                                           \n",
       "2015-01-02  0.02  0.25   0.41   2.12                    0.02   \n",
       "2015-01-05  0.02  0.26   0.40   2.04                    0.03   \n",
       "2015-01-06  0.02  0.25   0.41   1.97                    0.03   \n",
       "2015-01-07  0.02  0.25   0.39   1.96                    0.03   \n",
       "2015-01-08  0.01  0.23   0.41   2.03                    0.03   \n",
       "\n",
       "maturity    13 WEEKS COUPON EQUIVALENT  17 WEEKS BANK DISCOUNT  \\\n",
       "Date                                                             \n",
       "2015-01-02                        0.02                     NaN   \n",
       "2015-01-05                        0.03                     NaN   \n",
       "2015-01-06                        0.03                     NaN   \n",
       "2015-01-07                        0.03                     NaN   \n",
       "2015-01-08                        0.03                     NaN   \n",
       "\n",
       "maturity    17 WEEKS COUPON EQUIVALENT  2 Mo  2 Yr  ...  \\\n",
       "Date                                                ...   \n",
       "2015-01-02                         NaN   NaN  0.66  ...   \n",
       "2015-01-05                         NaN   NaN  0.68  ...   \n",
       "2015-01-06                         NaN   NaN  0.65  ...   \n",
       "2015-01-07                         NaN   NaN  0.62  ...   \n",
       "2015-01-08                         NaN   NaN  0.62  ...   \n",
       "\n",
       "maturity    52 WEEKS BANK DISCOUNT  52 WEEKS COUPON EQUIVALENT  6 Mo  7 YR  \\\n",
       "Date                                                                         \n",
       "2015-01-02                    0.22                        0.22  0.11  0.37   \n",
       "2015-01-05                    0.23                        0.23  0.10  0.36   \n",
       "2015-01-06                    0.25                        0.25  0.10  0.36   \n",
       "2015-01-07                    0.25                        0.25  0.09  0.35   \n",
       "2015-01-08                    0.23                        0.23  0.08  0.38   \n",
       "\n",
       "maturity    7 Yr  8 WEEKS BANK DISCOUNT  8 WEEKS COUPON EQUIVALENT  \\\n",
       "Date                                                                 \n",
       "2015-01-02  1.92                    NaN                        NaN   \n",
       "2015-01-05  1.85                    NaN                        NaN   \n",
       "2015-01-06  1.78                    NaN                        NaN   \n",
       "2015-01-07  1.76                    NaN                        NaN   \n",
       "2015-01-08  1.81                    NaN                        NaN   \n",
       "\n",
       "maturity    LT COMPOSITE (>10 Yrs)  LT Real Average (10> Yrs)  \\\n",
       "Date                                                            \n",
       "2015-01-02                    2.48                       0.64   \n",
       "2015-01-05                    2.40                       0.60   \n",
       "2015-01-06                    2.32                       0.58   \n",
       "2015-01-07                    2.32                       0.58   \n",
       "2015-01-08                    2.39                       0.63   \n",
       "\n",
       "maturity    TREASURY 20-Yr CMT  \n",
       "Date                            \n",
       "2015-01-02                2.41  \n",
       "2015-01-05                2.32  \n",
       "2015-01-06                2.25  \n",
       "2015-01-07                2.25  \n",
       "2015-01-08                2.33  \n",
       "\n",
       "[5 rows x 33 columns]"
      ]
     },
     "execution_count": 4,
     "metadata": {},
     "output_type": "execute_result"
    }
   ],
   "source": [
    "df = pd.read_csv(\"2 yield cuvre construction/yield curve data.csv\") \n",
    "df['Date'] = pd.to_datetime(df['Date'])\n",
    "\n",
    "df_wide = df.pivot(index = 'Date', columns = 'maturity', values = 'rate')\n",
    "df_wide.head()"
   ]
  },
  {
   "cell_type": "code",
   "execution_count": 5,
   "id": "8f0c23f7",
   "metadata": {},
   "outputs": [
    {
     "data": {
      "text/plain": [
       "maturity\n",
       "1 Mo                             0\n",
       "1 Yr                             0\n",
       "10 YR                            0\n",
       "10 Yr                            0\n",
       "13 WEEKS BANK DISCOUNT           0\n",
       "13 WEEKS COUPON EQUIVALENT       0\n",
       "17 WEEKS BANK DISCOUNT        1951\n",
       "17 WEEKS COUPON EQUIVALENT    1951\n",
       "2 Mo                           949\n",
       "2 Yr                             0\n",
       "20 YR                            0\n",
       "20 Yr                            0\n",
       "26 WEEKS BANK DISCOUNT           0\n",
       "26 WEEKS COUPON EQUIVALENT       0\n",
       "3 Mo                             0\n",
       "3 Yr                             0\n",
       "30 YR                            0\n",
       "30 Yr                            0\n",
       "4 Mo                          1951\n",
       "4 WEEKS BANK DISCOUNT            0\n",
       "4 WEEKS COUPON EQUIVALENT        0\n",
       "5 YR                             0\n",
       "5 Yr                             0\n",
       "52 WEEKS BANK DISCOUNT           0\n",
       "52 WEEKS COUPON EQUIVALENT       0\n",
       "6 Mo                             0\n",
       "7 YR                             0\n",
       "7 Yr                             0\n",
       "8 WEEKS BANK DISCOUNT          949\n",
       "8 WEEKS COUPON EQUIVALENT      949\n",
       "LT COMPOSITE (>10 Yrs)           0\n",
       "LT Real Average (10> Yrs)        0\n",
       "TREASURY 20-Yr CMT               0\n",
       "dtype: int64"
      ]
     },
     "execution_count": 5,
     "metadata": {},
     "output_type": "execute_result"
    }
   ],
   "source": [
    "df_wide.isnull().sum()"
   ]
  },
  {
   "cell_type": "code",
   "execution_count": 6,
   "id": "baef9a85",
   "metadata": {},
   "outputs": [
    {
     "data": {
      "application/vnd.microsoft.datawrangler.viewer.v0+json": {
       "columns": [
        {
         "name": "Date",
         "rawType": "datetime64[ns]",
         "type": "datetime"
        },
        {
         "name": "0.08",
         "rawType": "float64",
         "type": "float"
        },
        {
         "name": "0.15",
         "rawType": "float64",
         "type": "float"
        },
        {
         "name": "0.25",
         "rawType": "float64",
         "type": "float"
        },
        {
         "name": "0.5",
         "rawType": "float64",
         "type": "float"
        },
        {
         "name": "1.0",
         "rawType": "float64",
         "type": "float"
        },
        {
         "name": "2.0",
         "rawType": "float64",
         "type": "float"
        },
        {
         "name": "3.0",
         "rawType": "float64",
         "type": "float"
        },
        {
         "name": "5.0",
         "rawType": "float64",
         "type": "float"
        },
        {
         "name": "7.0",
         "rawType": "float64",
         "type": "float"
        },
        {
         "name": "10.0",
         "rawType": "float64",
         "type": "float"
        },
        {
         "name": "20.0",
         "rawType": "float64",
         "type": "float"
        },
        {
         "name": "30.0",
         "rawType": "float64",
         "type": "float"
        }
       ],
       "conversionMethod": "pd.DataFrame",
       "ref": "4a035630-837e-4e0e-ac2c-56f768b35023",
       "rows": [
        [
         "2015-01-02 00:00:00",
         "0.02",
         "2.21",
         "0.02",
         "0.11",
         "0.22",
         "0.66",
         "1.07",
         "1.61",
         "1.92",
         "2.12",
         "2.41",
         "2.69"
        ],
        [
         "2015-01-05 00:00:00",
         "0.02",
         "2.21",
         "0.03",
         "0.1",
         "0.23",
         "0.68",
         "1.06",
         "1.57",
         "1.85",
         "2.04",
         "2.32",
         "2.6"
        ],
        [
         "2015-01-06 00:00:00",
         "0.02",
         "2.21",
         "0.03",
         "0.1",
         "0.25",
         "0.65",
         "1.02",
         "1.5",
         "1.78",
         "1.97",
         "2.25",
         "2.52"
        ],
        [
         "2015-01-07 00:00:00",
         "0.02",
         "2.21",
         "0.03",
         "0.09",
         "0.25",
         "0.62",
         "1.0",
         "1.47",
         "1.76",
         "1.96",
         "2.25",
         "2.52"
        ],
        [
         "2015-01-08 00:00:00",
         "0.01",
         "2.21",
         "0.03",
         "0.08",
         "0.23",
         "0.62",
         "1.0",
         "1.5",
         "1.81",
         "2.03",
         "2.33",
         "2.59"
        ]
       ],
       "shape": {
        "columns": 12,
        "rows": 5
       }
      },
      "text/html": [
       "<div>\n",
       "<style scoped>\n",
       "    .dataframe tbody tr th:only-of-type {\n",
       "        vertical-align: middle;\n",
       "    }\n",
       "\n",
       "    .dataframe tbody tr th {\n",
       "        vertical-align: top;\n",
       "    }\n",
       "\n",
       "    .dataframe thead th {\n",
       "        text-align: right;\n",
       "    }\n",
       "</style>\n",
       "<table border=\"1\" class=\"dataframe\">\n",
       "  <thead>\n",
       "    <tr style=\"text-align: right;\">\n",
       "      <th></th>\n",
       "      <th>0.08</th>\n",
       "      <th>0.15</th>\n",
       "      <th>0.25</th>\n",
       "      <th>0.50</th>\n",
       "      <th>1.00</th>\n",
       "      <th>2.00</th>\n",
       "      <th>3.00</th>\n",
       "      <th>5.00</th>\n",
       "      <th>7.00</th>\n",
       "      <th>10.00</th>\n",
       "      <th>20.00</th>\n",
       "      <th>30.00</th>\n",
       "    </tr>\n",
       "    <tr>\n",
       "      <th>Date</th>\n",
       "      <th></th>\n",
       "      <th></th>\n",
       "      <th></th>\n",
       "      <th></th>\n",
       "      <th></th>\n",
       "      <th></th>\n",
       "      <th></th>\n",
       "      <th></th>\n",
       "      <th></th>\n",
       "      <th></th>\n",
       "      <th></th>\n",
       "      <th></th>\n",
       "    </tr>\n",
       "  </thead>\n",
       "  <tbody>\n",
       "    <tr>\n",
       "      <th>2015-01-02</th>\n",
       "      <td>0.02</td>\n",
       "      <td>2.21</td>\n",
       "      <td>0.02</td>\n",
       "      <td>0.11</td>\n",
       "      <td>0.22</td>\n",
       "      <td>0.66</td>\n",
       "      <td>1.07</td>\n",
       "      <td>1.61</td>\n",
       "      <td>1.92</td>\n",
       "      <td>2.12</td>\n",
       "      <td>2.41</td>\n",
       "      <td>2.69</td>\n",
       "    </tr>\n",
       "    <tr>\n",
       "      <th>2015-01-05</th>\n",
       "      <td>0.02</td>\n",
       "      <td>2.21</td>\n",
       "      <td>0.03</td>\n",
       "      <td>0.10</td>\n",
       "      <td>0.23</td>\n",
       "      <td>0.68</td>\n",
       "      <td>1.06</td>\n",
       "      <td>1.57</td>\n",
       "      <td>1.85</td>\n",
       "      <td>2.04</td>\n",
       "      <td>2.32</td>\n",
       "      <td>2.60</td>\n",
       "    </tr>\n",
       "    <tr>\n",
       "      <th>2015-01-06</th>\n",
       "      <td>0.02</td>\n",
       "      <td>2.21</td>\n",
       "      <td>0.03</td>\n",
       "      <td>0.10</td>\n",
       "      <td>0.25</td>\n",
       "      <td>0.65</td>\n",
       "      <td>1.02</td>\n",
       "      <td>1.50</td>\n",
       "      <td>1.78</td>\n",
       "      <td>1.97</td>\n",
       "      <td>2.25</td>\n",
       "      <td>2.52</td>\n",
       "    </tr>\n",
       "    <tr>\n",
       "      <th>2015-01-07</th>\n",
       "      <td>0.02</td>\n",
       "      <td>2.21</td>\n",
       "      <td>0.03</td>\n",
       "      <td>0.09</td>\n",
       "      <td>0.25</td>\n",
       "      <td>0.62</td>\n",
       "      <td>1.00</td>\n",
       "      <td>1.47</td>\n",
       "      <td>1.76</td>\n",
       "      <td>1.96</td>\n",
       "      <td>2.25</td>\n",
       "      <td>2.52</td>\n",
       "    </tr>\n",
       "    <tr>\n",
       "      <th>2015-01-08</th>\n",
       "      <td>0.01</td>\n",
       "      <td>2.21</td>\n",
       "      <td>0.03</td>\n",
       "      <td>0.08</td>\n",
       "      <td>0.23</td>\n",
       "      <td>0.62</td>\n",
       "      <td>1.00</td>\n",
       "      <td>1.50</td>\n",
       "      <td>1.81</td>\n",
       "      <td>2.03</td>\n",
       "      <td>2.33</td>\n",
       "      <td>2.59</td>\n",
       "    </tr>\n",
       "  </tbody>\n",
       "</table>\n",
       "</div>"
      ],
      "text/plain": [
       "            0.08   0.15   0.25   0.50   1.00   2.00   3.00   5.00   7.00   \\\n",
       "Date                                                                        \n",
       "2015-01-02   0.02   2.21   0.02   0.11   0.22   0.66   1.07   1.61   1.92   \n",
       "2015-01-05   0.02   2.21   0.03   0.10   0.23   0.68   1.06   1.57   1.85   \n",
       "2015-01-06   0.02   2.21   0.03   0.10   0.25   0.65   1.02   1.50   1.78   \n",
       "2015-01-07   0.02   2.21   0.03   0.09   0.25   0.62   1.00   1.47   1.76   \n",
       "2015-01-08   0.01   2.21   0.03   0.08   0.23   0.62   1.00   1.50   1.81   \n",
       "\n",
       "            10.00  20.00  30.00  \n",
       "Date                             \n",
       "2015-01-02   2.12   2.41   2.69  \n",
       "2015-01-05   2.04   2.32   2.60  \n",
       "2015-01-06   1.97   2.25   2.52  \n",
       "2015-01-07   1.96   2.25   2.52  \n",
       "2015-01-08   2.03   2.33   2.59  "
      ]
     },
     "execution_count": 6,
     "metadata": {},
     "output_type": "execute_result"
    }
   ],
   "source": [
    "maturity_map = {\n",
    "    '4 WEEKS COUPON EQUIVALENT': 0.08,\n",
    "    '8 WEEKS COUPON EQUIVALENT': 0.15,\n",
    "    '13 WEEKS COUPON EQUIVALENT': 0.25,\n",
    "    '26 WEEKS COUPON EQUIVALENT': 0.5,\n",
    "    '52 WEEKS COUPON EQUIVALENT': 1.0,\n",
    "    '2 Yr': 2.0,\n",
    "    '3 Yr': 3.0,\n",
    "    '5 Yr': 5.0,\n",
    "    '7 Yr': 7.0,\n",
    "    '10 Yr': 10.0,\n",
    "    '20 Yr': 20.0,\n",
    "    '30 Yr': 30.0\n",
    "}\n",
    "\n",
    "df_clean = df_wide.copy()\n",
    "\n",
    "df_clean['8 WEEKS COUPON EQUIVALENT'] = df_clean['8 WEEKS COUPON EQUIVALENT'].interpolate(method = 'time').ffill().bfill()      # interpolate 0.15Y\n",
    "\n",
    "df_curve = df_clean[maturity_map.keys()].copy()\n",
    "df_curve.columns = [maturity_map[col] for col in df_curve.columns]\n",
    "\n",
    "df_curve = df_curve[sorted(df_curve.columns)]\n",
    "df_curve.head()"
   ]
  },
  {
   "cell_type": "code",
   "execution_count": 7,
   "id": "17c80789",
   "metadata": {},
   "outputs": [
    {
     "data": {
      "text/plain": [
       "0.08     0\n",
       "0.15     0\n",
       "0.25     0\n",
       "0.50     0\n",
       "1.00     0\n",
       "2.00     0\n",
       "3.00     0\n",
       "5.00     0\n",
       "7.00     0\n",
       "10.00    0\n",
       "20.00    0\n",
       "30.00    0\n",
       "dtype: int64"
      ]
     },
     "execution_count": 7,
     "metadata": {},
     "output_type": "execute_result"
    }
   ],
   "source": [
    "# missing value check\n",
    "df_curve.isnull().sum()"
   ]
  },
  {
   "cell_type": "code",
   "execution_count": 8,
   "id": "29388571",
   "metadata": {},
   "outputs": [
    {
     "name": "stderr",
     "output_type": "stream",
     "text": [
      "  0%|          | 2/2501 [00:00<02:05, 19.89it/s]"
     ]
    },
    {
     "name": "stderr",
     "output_type": "stream",
     "text": [
      "100%|██████████| 2501/2501 [01:29<00:00, 27.92it/s]\n"
     ]
    },
    {
     "data": {
      "image/png": "[encoded data removed]",
      "text/plain": [
       "<Figure size 1200x600 with 1 Axes>"
      ]
     },
     "metadata": {},
     "output_type": "display_data"
    }
   ],
   "source": [
    "# Nelson-Siegel model\n",
    "def nelson_siegel(tau, beta0, beta1, beta2, lamb):\n",
    "    term1 = beta0\n",
    "    term2 = beta1 * ((1 - np.exp(-lamb * tau)) / (lamb * tau))\n",
    "    term3 = beta2 * (((1 - np.exp(-lamb * tau)) / (lamb * tau)) - np.exp(-lamb * tau))\n",
    "    return term1 + term2 + term3\n",
    "\n",
    "def fit_nelson_siegel(yields, tau):\n",
    "    def objective(params):\n",
    "        beta0, beta1, beta2, lamb = params\n",
    "        fitted = nelson_siegel(tau, beta0, beta1, beta2, lamb)\n",
    "        return np.sum((yields - fitted) ** 2)\n",
    "\n",
    "    init = [0.03, -0.01, 0.01, 0.5]\n",
    "    bounds = [(0, None), (None, None), (None, None), (0.01, 10)]\n",
    "    result = minimize(objective, init, bounds = bounds, method = 'L-BFGS-B')\n",
    "    \n",
    "    return result.x if result.success else [np.nan] * 4\n",
    "\n",
    "maturities = df_curve.columns.astype(float).values\n",
    "beta_series = []\n",
    "for idx, row in tqdm(df_curve.iterrows(), total = len(df_curve)):\n",
    "    if row.isnull().any():\n",
    "        beta_series.append([np.nan]*4)\n",
    "        continue\n",
    "    \n",
    "    yields = row.values\n",
    "    params = fit_nelson_siegel(yields, maturities)\n",
    "    beta_series.append(params)\n",
    "\n",
    "betas_df = pd.DataFrame(beta_series, columns = ['beta0', 'beta1', 'beta2', 'lambda'], index = df_curve.index)\n",
    "betas_df.dropna(inplace = True)\n",
    "\n",
    "betas_df.to_csv(\"results/nelson_siegel_parameters.csv\")\n",
    "betas_df.plot(title = \"Nelson-Siegel Parameters Over Time\", figsize = (12, 6), grid = True)\n",
    "plt.ylabel(\"Parameter Value\")\n",
    "plt.tight_layout()\n",
    "plt.show()"
   ]
  },
  {
   "cell_type": "code",
   "execution_count": 9,
   "id": "cd65fa40",
   "metadata": {},
   "outputs": [],
   "source": [
    "# clean the outliers, take -10 to 10 only\n",
    "betas_df = betas_df.clip(lower = -10, upper = 10)"
   ]
  },
  {
   "cell_type": "code",
   "execution_count": 10,
   "id": "1a55cc07",
   "metadata": {},
   "outputs": [
    {
     "data": {
      "application/vnd.microsoft.datawrangler.viewer.v0+json": {
       "columns": [
        {
         "name": "Date",
         "rawType": "datetime64[ns]",
         "type": "datetime"
        },
        {
         "name": "beta0",
         "rawType": "float64",
         "type": "float"
        },
        {
         "name": "beta1",
         "rawType": "float64",
         "type": "float"
        },
        {
         "name": "beta2",
         "rawType": "float64",
         "type": "float"
        },
        {
         "name": "lambda",
         "rawType": "float64",
         "type": "float"
        }
       ],
       "conversionMethod": "pd.DataFrame",
       "ref": "03aa1c77-20df-4888-94f5-56d6773fdf95",
       "rows": [
        [
         "2015-01-02 00:00:00",
         "1.4822020436477301",
         "-1.064878876320553",
         "5.399647110304843",
         "0.08223110268566064"
        ],
        [
         "2015-01-05 00:00:00",
         "1.6804060636371203",
         "-1.2519885484035984",
         "4.644588145684478",
         "0.08619815798379236"
        ],
        [
         "2015-01-06 00:00:00",
         "1.4063937495972259",
         "-0.970127719745625",
         "4.95981519171651",
         "0.07921772025806124"
        ],
        [
         "2015-01-07 00:00:00",
         "1.0965309649533437",
         "-0.6628743224400993",
         "5.596283429571003",
         "0.07266120119877671"
        ],
        [
         "2015-01-08 00:00:00",
         "0.6601806084222387",
         "-0.2400691236973579",
         "6.693805848047799",
         "0.06846531954444583"
        ]
       ],
       "shape": {
        "columns": 4,
        "rows": 5
       }
      },
      "text/html": [
       "<div>\n",
       "<style scoped>\n",
       "    .dataframe tbody tr th:only-of-type {\n",
       "        vertical-align: middle;\n",
       "    }\n",
       "\n",
       "    .dataframe tbody tr th {\n",
       "        vertical-align: top;\n",
       "    }\n",
       "\n",
       "    .dataframe thead th {\n",
       "        text-align: right;\n",
       "    }\n",
       "</style>\n",
       "<table border=\"1\" class=\"dataframe\">\n",
       "  <thead>\n",
       "    <tr style=\"text-align: right;\">\n",
       "      <th></th>\n",
       "      <th>beta0</th>\n",
       "      <th>beta1</th>\n",
       "      <th>beta2</th>\n",
       "      <th>lambda</th>\n",
       "    </tr>\n",
       "    <tr>\n",
       "      <th>Date</th>\n",
       "      <th></th>\n",
       "      <th></th>\n",
       "      <th></th>\n",
       "      <th></th>\n",
       "    </tr>\n",
       "  </thead>\n",
       "  <tbody>\n",
       "    <tr>\n",
       "      <th>2015-01-02</th>\n",
       "      <td>1.482202</td>\n",
       "      <td>-1.064879</td>\n",
       "      <td>5.399647</td>\n",
       "      <td>0.082231</td>\n",
       "    </tr>\n",
       "    <tr>\n",
       "      <th>2015-01-05</th>\n",
       "      <td>1.680406</td>\n",
       "      <td>-1.251989</td>\n",
       "      <td>4.644588</td>\n",
       "      <td>0.086198</td>\n",
       "    </tr>\n",
       "    <tr>\n",
       "      <th>2015-01-06</th>\n",
       "      <td>1.406394</td>\n",
       "      <td>-0.970128</td>\n",
       "      <td>4.959815</td>\n",
       "      <td>0.079218</td>\n",
       "    </tr>\n",
       "    <tr>\n",
       "      <th>2015-01-07</th>\n",
       "      <td>1.096531</td>\n",
       "      <td>-0.662874</td>\n",
       "      <td>5.596283</td>\n",
       "      <td>0.072661</td>\n",
       "    </tr>\n",
       "    <tr>\n",
       "      <th>2015-01-08</th>\n",
       "      <td>0.660181</td>\n",
       "      <td>-0.240069</td>\n",
       "      <td>6.693806</td>\n",
       "      <td>0.068465</td>\n",
       "    </tr>\n",
       "  </tbody>\n",
       "</table>\n",
       "</div>"
      ],
      "text/plain": [
       "               beta0     beta1     beta2    lambda\n",
       "Date                                              \n",
       "2015-01-02  1.482202 -1.064879  5.399647  0.082231\n",
       "2015-01-05  1.680406 -1.251989  4.644588  0.086198\n",
       "2015-01-06  1.406394 -0.970128  4.959815  0.079218\n",
       "2015-01-07  1.096531 -0.662874  5.596283  0.072661\n",
       "2015-01-08  0.660181 -0.240069  6.693806  0.068465"
      ]
     },
     "execution_count": 10,
     "metadata": {},
     "output_type": "execute_result"
    }
   ],
   "source": [
    "betas_df.head()"
   ]
  },
  {
   "cell_type": "code",
   "execution_count": 11,
   "id": "d9fef467",
   "metadata": {},
   "outputs": [
    {
     "name": "stderr",
     "output_type": "stream",
     "text": [
      "d:\\Program Files\\Anaconda\\Lib\\site-packages\\statsmodels\\tsa\\base\\tsa_model.py:473: ValueWarning: A date index has been provided, but it has no associated frequency information and so will be ignored when e.g. forecasting.\n",
      "  self._init_dates(dates, freq)\n",
      "C:\\Users\\木木小呆猪\\AppData\\Local\\Temp\\ipykernel_10896\\1831932923.py:11: FutureWarning: 'M' is deprecated and will be removed in a future version, please use 'ME' instead.\n",
      "  forecast_index = pd.date_range(betas_df.index[-1] + pd.DateOffset(months = 1), periods = forecast_steps, freq = 'M')\n"
     ]
    },
    {
     "data": {
      "image/png": "[encoded data removed]",
      "text/plain": [
       "<Figure size 1200x600 with 1 Axes>"
      ]
     },
     "metadata": {},
     "output_type": "display_data"
    }
   ],
   "source": [
    "betas_df = betas_df.dropna()\n",
    "\n",
    "# Fit VaR(1)\n",
    "model = VAR(betas_df)\n",
    "results = model.fit(maxlags = 1)\n",
    "\n",
    "# Forecast next 12 steps (12 mo)\n",
    "forecast_steps = 12\n",
    "forecast = results.forecast(betas_df.values[-results.k_ar:], steps = forecast_steps)\n",
    "\n",
    "forecast_index = pd.date_range(betas_df.index[-1] + pd.DateOffset(months = 1), periods = forecast_steps, freq = 'M')\n",
    "forecast_df = pd.DataFrame(forecast, columns = betas_df.columns, index = forecast_index)\n",
    "\n",
    "all_betas = pd.concat([betas_df, forecast_df])\n",
    "\n",
    "plt.figure(figsize = (12, 6))\n",
    "for col in betas_df.columns:\n",
    "    plt.plot(all_betas[col], label = col)\n",
    "plt.axvline(x = forecast_index[0], color = 'gray', linestyle = '--', label = 'Forecast Start')\n",
    "plt.title(\"Nelson-Siegel Parameters Forecast (VAR)\")\n",
    "plt.legend()\n",
    "plt.grid(True)\n",
    "plt.tight_layout()\n",
    "plt.show()"
   ]
  },
  {
   "cell_type": "code",
   "execution_count": 12,
   "id": "279f1376",
   "metadata": {},
   "outputs": [
    {
     "data": {
      "image/png": "[encoded data removed]",
      "text/plain": [
       "<Figure size 1000x600 with 1 Axes>"
      ]
     },
     "metadata": {},
     "output_type": "display_data"
    }
   ],
   "source": [
    "def nelson_siegel(tau, beta0, beta1, beta2, lamb):\n",
    "    term1 = beta0\n",
    "    term2 = beta1 * ((1 - np.exp(-lamb * tau)) / (lamb * tau))\n",
    "    term3 = beta2 * (((1 - np.exp(-lamb * tau)) / (lamb * tau)) - np.exp(-lamb * tau))\n",
    "    return term1 + term2 + term3\n",
    "\n",
    "# standard maturities\n",
    "maturities = np.array([0.25, 0.5, 1, 2, 3, 5, 7, 10, 20, 30])\n",
    "\n",
    "# reconstruct forecasted yield curves\n",
    "forecasted_curves = []\n",
    "for date, row in forecast_df.iterrows():\n",
    "    beta0, beta1, beta2, lamb = row\n",
    "    yields = nelson_siegel(maturities, beta0, beta1, beta2, lamb)\n",
    "    forecasted_curves.append(yields)\n",
    "\n",
    "forecasted_yield_df = pd.DataFrame(forecasted_curves, index = forecast_df.index, columns = maturities)\n",
    "\n",
    "plt.figure(figsize = (10, 6))\n",
    "for date in forecasted_yield_df.index[::3]:  # plot every 3 months\n",
    "    plt.plot(maturities, forecasted_yield_df.loc[date], label = str(date.date()))\n",
    "plt.title(\"Forecasted Yield Curves (NS + VAR)\")\n",
    "plt.xlabel(\"Maturity (Years)\")\n",
    "plt.ylabel(\"Yield\")\n",
    "plt.legend()\n",
    "plt.grid(True)\n",
    "plt.tight_layout()\n",
    "plt.show()"
   ]
  },
  {
   "cell_type": "code",
   "execution_count": 10,
   "id": "d8ae2538",
   "metadata": {},
   "outputs": [
    {
     "data": {
      "text/html": [
       "<div>\n",
       "<style scoped>\n",
       "    .dataframe tbody tr th:only-of-type {\n",
       "        vertical-align: middle;\n",
       "    }\n",
       "\n",
       "    .dataframe tbody tr th {\n",
       "        vertical-align: top;\n",
       "    }\n",
       "\n",
       "    .dataframe thead th {\n",
       "        text-align: right;\n",
       "    }\n",
       "</style>\n",
       "<table border=\"1\" class=\"dataframe\">\n",
       "  <thead>\n",
       "    <tr style=\"text-align: right;\">\n",
       "      <th></th>\n",
       "      <th>0.25</th>\n",
       "      <th>0.50</th>\n",
       "      <th>1.00</th>\n",
       "      <th>2.00</th>\n",
       "      <th>3.00</th>\n",
       "      <th>5.00</th>\n",
       "      <th>7.00</th>\n",
       "      <th>10.00</th>\n",
       "      <th>20.00</th>\n",
       "      <th>30.00</th>\n",
       "    </tr>\n",
       "  </thead>\n",
       "  <tbody>\n",
       "    <tr>\n",
       "      <th>2025-01-31</th>\n",
       "      <td>4.298631</td>\n",
       "      <td>4.263883</td>\n",
       "      <td>4.219982</td>\n",
       "      <td>4.197056</td>\n",
       "      <td>4.216503</td>\n",
       "      <td>4.286998</td>\n",
       "      <td>4.350156</td>\n",
       "      <td>4.414041</td>\n",
       "      <td>4.499165</td>\n",
       "      <td>4.528074</td>\n",
       "    </tr>\n",
       "    <tr>\n",
       "      <th>2025-02-28</th>\n",
       "      <td>4.298591</td>\n",
       "      <td>4.260197</td>\n",
       "      <td>4.209224</td>\n",
       "      <td>4.170953</td>\n",
       "      <td>4.173077</td>\n",
       "      <td>4.208437</td>\n",
       "      <td>4.242247</td>\n",
       "      <td>4.275593</td>\n",
       "      <td>4.318585</td>\n",
       "      <td>4.333067</td>\n",
       "    </tr>\n",
       "    <tr>\n",
       "      <th>2025-03-31</th>\n",
       "      <td>4.293256</td>\n",
       "      <td>4.253048</td>\n",
       "      <td>4.197970</td>\n",
       "      <td>4.149392</td>\n",
       "      <td>4.139576</td>\n",
       "      <td>4.152028</td>\n",
       "      <td>4.168229</td>\n",
       "      <td>4.184522</td>\n",
       "      <td>4.205314</td>\n",
       "      <td>4.212297</td>\n",
       "    </tr>\n",
       "    <tr>\n",
       "      <th>2025-04-30</th>\n",
       "      <td>4.285474</td>\n",
       "      <td>4.244838</td>\n",
       "      <td>4.188071</td>\n",
       "      <td>4.133582</td>\n",
       "      <td>4.116279</td>\n",
       "      <td>4.114523</td>\n",
       "      <td>4.120295</td>\n",
       "      <td>4.126911</td>\n",
       "      <td>4.135490</td>\n",
       "      <td>4.138371</td>\n",
       "    </tr>\n",
       "    <tr>\n",
       "      <th>2025-05-31</th>\n",
       "      <td>4.276810</td>\n",
       "      <td>4.236717</td>\n",
       "      <td>4.179991</td>\n",
       "      <td>4.122779</td>\n",
       "      <td>4.101092</td>\n",
       "      <td>4.090725</td>\n",
       "      <td>4.090294</td>\n",
       "      <td>4.091300</td>\n",
       "      <td>4.092926</td>\n",
       "      <td>4.093477</td>\n",
       "    </tr>\n",
       "  </tbody>\n",
       "</table>\n",
       "</div>"
      ],
      "text/plain": [
       "               0.25      0.50      1.00      2.00      3.00      5.00   \\\n",
       "2025-01-31  4.298631  4.263883  4.219982  4.197056  4.216503  4.286998   \n",
       "2025-02-28  4.298591  4.260197  4.209224  4.170953  4.173077  4.208437   \n",
       "2025-03-31  4.293256  4.253048  4.197970  4.149392  4.139576  4.152028   \n",
       "2025-04-30  4.285474  4.244838  4.188071  4.133582  4.116279  4.114523   \n",
       "2025-05-31  4.276810  4.236717  4.179991  4.122779  4.101092  4.090725   \n",
       "\n",
       "               7.00      10.00     20.00     30.00  \n",
       "2025-01-31  4.350156  4.414041  4.499165  4.528074  \n",
       "2025-02-28  4.242247  4.275593  4.318585  4.333067  \n",
       "2025-03-31  4.168229  4.184522  4.205314  4.212297  \n",
       "2025-04-30  4.120295  4.126911  4.135490  4.138371  \n",
       "2025-05-31  4.090294  4.091300  4.092926  4.093477  "
      ]
     },
     "execution_count": 10,
     "metadata": {},
     "output_type": "execute_result"
    }
   ],
   "source": [
    "forecasted_yield_df.head()"
   ]
  },
  {
   "cell_type": "code",
   "execution_count": 13,
   "id": "c2a2aae2",
   "metadata": {},
   "outputs": [],
   "source": [
    "forecasted_yield_df.to_csv('results/forecasted_yield.csv')"
   ]
  },
  {
   "cell_type": "markdown",
   "id": "99f93307",
   "metadata": {},
   "source": [
    "New maturity periods: Maturities for every 0.5Y (from 0.5 to 30Y)"
   ]
  },
  {
   "cell_type": "code",
   "execution_count": 14,
   "id": "15e644b1",
   "metadata": {},
   "outputs": [
    {
     "data": {
      "image/png": "[encoded data removed]",
      "text/plain": [
       "<Figure size 1000x600 with 1 Axes>"
      ]
     },
     "metadata": {},
     "output_type": "display_data"
    }
   ],
   "source": [
    "def nelson_siegel(tau, beta0, beta1, beta2, lamb):\n",
    "    term1 = beta0\n",
    "    term2 = beta1 * ((1 - np.exp(-lamb * tau)) / (lamb * tau))\n",
    "    term3 = beta2 * (((1 - np.exp(-lamb * tau)) / (lamb * tau)) - np.exp(-lamb * tau))\n",
    "    return term1 + term2 + term3\n",
    "\n",
    "# 0.5 maturities\n",
    "maturities = np.arange(0.5, 30.5, 0.5)\n",
    "\n",
    "# reconstruct forecasted yield curves\n",
    "forecasted_curves = []\n",
    "for date, row in forecast_df.iterrows():\n",
    "    beta0, beta1, beta2, lamb = row\n",
    "    yields = nelson_siegel(maturities, beta0, beta1, beta2, lamb)\n",
    "    forecasted_curves.append(yields)\n",
    "\n",
    "forecasted_yield_df = pd.DataFrame(forecasted_curves, index = forecast_df.index, columns = maturities)\n",
    "\n",
    "plt.figure(figsize = (10, 6))\n",
    "for date in forecasted_yield_df.index[::3]:  # plot every 3 months\n",
    "    plt.plot(maturities, forecasted_yield_df.loc[date], label = str(date.date()))\n",
    "plt.title(\"Forecasted Yield Curves (NS + VAR)\")\n",
    "plt.xlabel(\"Maturity (Years)\")\n",
    "plt.ylabel(\"Yield\")\n",
    "plt.legend()\n",
    "plt.grid(True)\n",
    "plt.tight_layout()\n",
    "plt.show()"
   ]
  },
  {
   "cell_type": "code",
   "execution_count": 15,
   "id": "2352e498",
   "metadata": {},
   "outputs": [
    {
     "data": {
      "application/vnd.microsoft.datawrangler.viewer.v0+json": {
       "columns": [
        {
         "name": "index",
         "rawType": "datetime64[ns]",
         "type": "datetime"
        },
        {
         "name": "0.5",
         "rawType": "float64",
         "type": "float"
        },
        {
         "name": "1.0",
         "rawType": "float64",
         "type": "float"
        },
        {
         "name": "1.5",
         "rawType": "float64",
         "type": "float"
        },
        {
         "name": "2.0",
         "rawType": "float64",
         "type": "float"
        },
        {
         "name": "2.5",
         "rawType": "float64",
         "type": "float"
        },
        {
         "name": "3.0",
         "rawType": "float64",
         "type": "float"
        },
        {
         "name": "3.5",
         "rawType": "float64",
         "type": "float"
        },
        {
         "name": "4.0",
         "rawType": "float64",
         "type": "float"
        },
        {
         "name": "4.5",
         "rawType": "float64",
         "type": "float"
        },
        {
         "name": "5.0",
         "rawType": "float64",
         "type": "float"
        },
        {
         "name": "5.5",
         "rawType": "float64",
         "type": "float"
        },
        {
         "name": "6.0",
         "rawType": "float64",
         "type": "float"
        },
        {
         "name": "6.5",
         "rawType": "float64",
         "type": "float"
        },
        {
         "name": "7.0",
         "rawType": "float64",
         "type": "float"
        },
        {
         "name": "7.5",
         "rawType": "float64",
         "type": "float"
        },
        {
         "name": "8.0",
         "rawType": "float64",
         "type": "float"
        },
        {
         "name": "8.5",
         "rawType": "float64",
         "type": "float"
        },
        {
         "name": "9.0",
         "rawType": "float64",
         "type": "float"
        },
        {
         "name": "9.5",
         "rawType": "float64",
         "type": "float"
        },
        {
         "name": "10.0",
         "rawType": "float64",
         "type": "float"
        },
        {
         "name": "10.5",
         "rawType": "float64",
         "type": "float"
        },
        {
         "name": "11.0",
         "rawType": "float64",
         "type": "float"
        },
        {
         "name": "11.5",
         "rawType": "float64",
         "type": "float"
        },
        {
         "name": "12.0",
         "rawType": "float64",
         "type": "float"
        },
        {
         "name": "12.5",
         "rawType": "float64",
         "type": "float"
        },
        {
         "name": "13.0",
         "rawType": "float64",
         "type": "float"
        },
        {
         "name": "13.5",
         "rawType": "float64",
         "type": "float"
        },
        {
         "name": "14.0",
         "rawType": "float64",
         "type": "float"
        },
        {
         "name": "14.5",
         "rawType": "float64",
         "type": "float"
        },
        {
         "name": "15.0",
         "rawType": "float64",
         "type": "float"
        },
        {
         "name": "15.5",
         "rawType": "float64",
         "type": "float"
        },
        {
         "name": "16.0",
         "rawType": "float64",
         "type": "float"
        },
        {
         "name": "16.5",
         "rawType": "float64",
         "type": "float"
        },
        {
         "name": "17.0",
         "rawType": "float64",
         "type": "float"
        },
        {
         "name": "17.5",
         "rawType": "float64",
         "type": "float"
        },
        {
         "name": "18.0",
         "rawType": "float64",
         "type": "float"
        },
        {
         "name": "18.5",
         "rawType": "float64",
         "type": "float"
        },
        {
         "name": "19.0",
         "rawType": "float64",
         "type": "float"
        },
        {
         "name": "19.5",
         "rawType": "float64",
         "type": "float"
        },
        {
         "name": "20.0",
         "rawType": "float64",
         "type": "float"
        },
        {
         "name": "20.5",
         "rawType": "float64",
         "type": "float"
        },
        {
         "name": "21.0",
         "rawType": "float64",
         "type": "float"
        },
        {
         "name": "21.5",
         "rawType": "float64",
         "type": "float"
        },
        {
         "name": "22.0",
         "rawType": "float64",
         "type": "float"
        },
        {
         "name": "22.5",
         "rawType": "float64",
         "type": "float"
        },
        {
         "name": "23.0",
         "rawType": "float64",
         "type": "float"
        },
        {
         "name": "23.5",
         "rawType": "float64",
         "type": "float"
        },
        {
         "name": "24.0",
         "rawType": "float64",
         "type": "float"
        },
        {
         "name": "24.5",
         "rawType": "float64",
         "type": "float"
        },
        {
         "name": "25.0",
         "rawType": "float64",
         "type": "float"
        },
        {
         "name": "25.5",
         "rawType": "float64",
         "type": "float"
        },
        {
         "name": "26.0",
         "rawType": "float64",
         "type": "float"
        },
        {
         "name": "26.5",
         "rawType": "float64",
         "type": "float"
        },
        {
         "name": "27.0",
         "rawType": "float64",
         "type": "float"
        },
        {
         "name": "27.5",
         "rawType": "float64",
         "type": "float"
        },
        {
         "name": "28.0",
         "rawType": "float64",
         "type": "float"
        },
        {
         "name": "28.5",
         "rawType": "float64",
         "type": "float"
        },
        {
         "name": "29.0",
         "rawType": "float64",
         "type": "float"
        },
        {
         "name": "29.5",
         "rawType": "float64",
         "type": "float"
        },
        {
         "name": "30.0",
         "rawType": "float64",
         "type": "float"
        }
       ],
       "conversionMethod": "pd.DataFrame",
       "ref": "7e6308a3-7590-4d4c-b92f-60d9bb26f0c5",
       "rows": [
        [
         "2025-01-31 00:00:00",
         "4.284134142956215",
         "4.239849619122167",
         "4.219380117689465",
         "4.214565726694733",
         "4.219758653891628",
         "4.231082690761273",
         "4.245906215415211",
         "4.262467940103231",
         "4.27961177804075",
         "4.296599550787797",
         "4.312979130826703",
         "4.328491987164555",
         "4.343008675917203",
         "4.356484098116676",
         "4.368926697282685",
         "4.380377451563427",
         "4.390895717982367",
         "4.400549845103922",
         "4.409411082711749",
         "4.4175497528948435",
         "4.425032956525133",
         "4.4319233085462955",
         "4.438278350624771",
         "4.444150399050551",
         "4.449586662558703",
         "4.4546295184341425",
         "4.459316872613163",
         "4.4636825553158825",
         "4.467756721455369",
         "4.471566237100267",
         "4.475135041338223",
         "4.478484478212165",
         "4.4816335968359144",
         "4.48459941993995",
         "4.487397182371502",
         "4.4900405417669615",
         "4.492541763929967",
         "4.494911885523308",
         "4.497160856610496",
         "4.499297665426159",
         "4.501330447554588",
         "4.503266581479495",
         "4.5051127722518265",
         "4.506875124816387",
         "4.508559208347179",
         "4.510170112768553",
         "4.511712498484899",
         "4.513190640205249",
         "4.514608465629776",
         "4.515969589661119",
         "4.517277344713339",
         "4.51853480761333",
         "4.519744823522413",
         "4.5209100272479485",
         "4.522032862265126",
         "4.523115597726346",
         "4.524160343698859",
         "4.525169064839775",
         "4.526143592690386",
         "4.527085636748326"
        ],
        [
         "2025-02-28 00:00:00",
         "4.289024105773303",
         "4.237939283080961",
         "4.210201706149537",
         "4.197494110799831",
         "4.194257863739482",
         "4.196805719928103",
         "4.202715375957949",
         "4.210415793910581",
         "4.218905697451888",
         "4.2275625585725125",
         "4.236013432478174",
         "4.244047979893358",
         "4.2515601983224585",
         "4.258509635548828",
         "4.264895779869435",
         "4.270741326412971",
         "4.276081393090795",
         "4.280956700288816",
         "4.285409371079094",
         "4.289480446995604",
         "4.293208512603992",
         "4.296629024422659",
         "4.299774076594693",
         "4.302672427903783",
         "4.305349676548906",
         "4.307828510309683",
         "4.310128987017816",
         "4.312268818147356",
         "4.314263639940137",
         "4.316127263890114",
         "4.317871903039595",
         "4.31950837334654",
         "4.321046271005417",
         "4.322494127471549",
         "4.323859544332802",
         "4.325149310278545",
         "4.326369502354203",
         "4.327525573537522",
         "4.328622428478062",
         "4.329664489033906",
         "4.330655751036174",
         "4.331599833522219",
         "4.332500021506658",
         "4.333359303207163",
         "4.334180402509003",
         "4.334965807337308",
         "4.335717794507334",
         "4.3364384515386805",
         "4.337129695847692",
         "4.3377932916713915",
         "4.338430865024611",
         "4.3390439169483335",
         "4.339633835270137",
         "4.340201905066264",
         "4.3407493179882355",
         "4.341277180594264",
         "4.341786521806545",
         "4.342278299599108",
         "4.3427534070069385",
         "4.343212677535181"
        ],
        [
         "2025-03-31 00:00:00",
         "4.28434734930018",
         "4.229780601926757",
         "4.197922250346526",
         "4.180506610308242",
         "4.172147506910351",
         "4.169354909309255",
         "4.169883806496168",
         "4.17230379379349",
         "4.175715123446062",
         "4.17956182835549",
         "4.183509089891569",
         "4.187363049871397",
         "4.191018606663612",
         "4.194425616348392",
         "4.197567162875756",
         "4.2004457137329085",
         "4.203074404758665",
         "4.205471642637049",
         "4.207657838224824",
         "4.2096534960074505",
         "4.21147815631699",
         "4.213149865115496",
         "4.214684962768277",
         "4.216098059270678",
         "4.21740211273621",
         "4.218608559785689",
         "4.219727466858774",
         "4.220767684394631",
         "4.221736993922056",
         "4.222642243081462",
         "4.223489466594825",
         "4.224283992935534",
         "4.225030537400592",
         "4.225733282756559",
         "4.226395948811662",
         "4.227021852281688",
         "4.227613958242704",
         "4.228174924345708",
         "4.228707138834434",
         "4.2292127532736385",
         "4.229693710769474",
         "4.23015177035011",
         "4.230588528074845",
         "4.231005435353334",
         "4.231403814882451",
         "4.231784874545272",
         "4.232149719563437",
         "4.232499363149222",
         "4.232834735865999",
         "4.233156693874057",
         "4.233466026212138",
         "4.233763461242746",
         "4.234049672370455",
         "4.234325283126657",
         "4.234590871700815",
         "4.234846974987062",
         "4.235094092205377",
         "4.2353326881485485",
         "4.235563196099182",
         "4.235786020455176"
        ],
        [
         "2025-04-30 00:00:00",
         "4.275482629829303",
         "4.219958917903822",
         "4.1864005908080415",
         "4.166683059444767",
         "4.155615257509603",
         "4.149892449377109",
         "4.147420513907119",
         "4.1468804336551655",
         "4.147447990190205",
         "4.148613655741066",
         "4.150067101176002",
         "4.151623323302204",
         "4.15317553944467",
         "4.154665266580701",
         "4.156063409053664",
         "4.157358379794712",
         "4.158548700621469",
         "4.1596384432403655",
         "4.160634462559149",
         "4.161544753344223",
         "4.162377504857934",
         "4.163140584185718",
         "4.1638412787106445",
         "4.1644861917475",
         "4.165081225690118",
         "4.165631612512529",
         "4.166141967470813",
         "4.166616351828257",
         "4.167058336581744",
         "4.167471062914633",
         "4.16785729734075",
         "4.168219480807098",
         "4.1685597717505924",
         "4.1688800834836695",
         "4.169182116456726",
         "4.1694673859996945",
         "4.169737246134096",
         "4.169992910003017",
         "4.170235467408353",
         "4.170465899883145",
         "4.170685093667785",
         "4.170893850904826",
         "4.171092899319481",
         "4.1712829006115335",
         "4.171464457749082",
         "4.171638121324558",
         "4.171804395108352",
         "4.171963740914117",
         "4.172116582872216",
         "4.1722633111929115",
         "4.1724042854884855",
         "4.17253983771315",
         "4.172670274770853",
         "4.172795880833801",
         "4.172916919408361",
         "4.17303363517982",
         "4.173146255663093",
         "4.173254992682757",
         "4.173360043702621",
         "4.173461593022386"
        ],
        [
         "2025-05-31 00:00:00",
         "4.265165711753052",
         "4.210391006076773",
         "4.176732969921758",
         "4.156267680031978",
         "4.144014114539438",
         "4.136846659377152",
         "4.132808342039285",
         "4.130677387879224",
         "4.129693853302793",
         "4.129387366339537",
         "4.1294686934186835",
         "4.129761571467865",
         "4.130159921813169",
         "4.130601048684081",
         "4.13104889268504",
         "4.13148360032519",
         "4.131895054092162",
         "4.132278880643351",
         "4.132634005342299",
         "4.1329611683868555",
         "4.1332620362559425",
         "4.133538679596313",
         "4.133793274952212",
         "4.134027941831499",
         "4.13424466044016",
         "4.134445236530425",
         "4.134631292938066",
         "4.134804275516099",
         "4.134965466181255",
         "4.135115998853739",
         "4.135256875927901",
         "4.1353889840229465",
         "4.135513108416497",
         "4.1356299459385415",
         "4.135740116309833",
         "4.135844172015368",
         "4.135942606851884",
         "4.136035863303645",
         "4.136124338898372",
         "4.13620839168388",
         "4.136288344950992",
         "4.136364491312466",
         "4.1364370962325365",
         "4.13650640108784",
         "4.13657262582837",
         "4.136635971296577",
         "4.136696621253768",
         "4.136754744155359",
         "4.136810494710111",
         "4.136864015253152",
         "4.136915436958027",
         "4.136964880909252",
         "4.137012459053686",
         "4.137058275046329",
         "4.137102425003961",
         "4.137144998178081",
         "4.137186077557056",
         "4.137225740405998",
         "4.137264058751763",
         "4.137301099819448"
        ]
       ],
       "shape": {
        "columns": 60,
        "rows": 5
       }
      },
      "text/html": [
       "<div>\n",
       "<style scoped>\n",
       "    .dataframe tbody tr th:only-of-type {\n",
       "        vertical-align: middle;\n",
       "    }\n",
       "\n",
       "    .dataframe tbody tr th {\n",
       "        vertical-align: top;\n",
       "    }\n",
       "\n",
       "    .dataframe thead th {\n",
       "        text-align: right;\n",
       "    }\n",
       "</style>\n",
       "<table border=\"1\" class=\"dataframe\">\n",
       "  <thead>\n",
       "    <tr style=\"text-align: right;\">\n",
       "      <th></th>\n",
       "      <th>0.5</th>\n",
       "      <th>1.0</th>\n",
       "      <th>1.5</th>\n",
       "      <th>2.0</th>\n",
       "      <th>2.5</th>\n",
       "      <th>3.0</th>\n",
       "      <th>3.5</th>\n",
       "      <th>4.0</th>\n",
       "      <th>4.5</th>\n",
       "      <th>5.0</th>\n",
       "      <th>...</th>\n",
       "      <th>25.5</th>\n",
       "      <th>26.0</th>\n",
       "      <th>26.5</th>\n",
       "      <th>27.0</th>\n",
       "      <th>27.5</th>\n",
       "      <th>28.0</th>\n",
       "      <th>28.5</th>\n",
       "      <th>29.0</th>\n",
       "      <th>29.5</th>\n",
       "      <th>30.0</th>\n",
       "    </tr>\n",
       "  </thead>\n",
       "  <tbody>\n",
       "    <tr>\n",
       "      <th>2025-01-31</th>\n",
       "      <td>4.284134</td>\n",
       "      <td>4.239850</td>\n",
       "      <td>4.219380</td>\n",
       "      <td>4.214566</td>\n",
       "      <td>4.219759</td>\n",
       "      <td>4.231083</td>\n",
       "      <td>4.245906</td>\n",
       "      <td>4.262468</td>\n",
       "      <td>4.279612</td>\n",
       "      <td>4.296600</td>\n",
       "      <td>...</td>\n",
       "      <td>4.517277</td>\n",
       "      <td>4.518535</td>\n",
       "      <td>4.519745</td>\n",
       "      <td>4.520910</td>\n",
       "      <td>4.522033</td>\n",
       "      <td>4.523116</td>\n",
       "      <td>4.524160</td>\n",
       "      <td>4.525169</td>\n",
       "      <td>4.526144</td>\n",
       "      <td>4.527086</td>\n",
       "    </tr>\n",
       "    <tr>\n",
       "      <th>2025-02-28</th>\n",
       "      <td>4.289024</td>\n",
       "      <td>4.237939</td>\n",
       "      <td>4.210202</td>\n",
       "      <td>4.197494</td>\n",
       "      <td>4.194258</td>\n",
       "      <td>4.196806</td>\n",
       "      <td>4.202715</td>\n",
       "      <td>4.210416</td>\n",
       "      <td>4.218906</td>\n",
       "      <td>4.227563</td>\n",
       "      <td>...</td>\n",
       "      <td>4.338431</td>\n",
       "      <td>4.339044</td>\n",
       "      <td>4.339634</td>\n",
       "      <td>4.340202</td>\n",
       "      <td>4.340749</td>\n",
       "      <td>4.341277</td>\n",
       "      <td>4.341787</td>\n",
       "      <td>4.342278</td>\n",
       "      <td>4.342753</td>\n",
       "      <td>4.343213</td>\n",
       "    </tr>\n",
       "    <tr>\n",
       "      <th>2025-03-31</th>\n",
       "      <td>4.284347</td>\n",
       "      <td>4.229781</td>\n",
       "      <td>4.197922</td>\n",
       "      <td>4.180507</td>\n",
       "      <td>4.172148</td>\n",
       "      <td>4.169355</td>\n",
       "      <td>4.169884</td>\n",
       "      <td>4.172304</td>\n",
       "      <td>4.175715</td>\n",
       "      <td>4.179562</td>\n",
       "      <td>...</td>\n",
       "      <td>4.233466</td>\n",
       "      <td>4.233763</td>\n",
       "      <td>4.234050</td>\n",
       "      <td>4.234325</td>\n",
       "      <td>4.234591</td>\n",
       "      <td>4.234847</td>\n",
       "      <td>4.235094</td>\n",
       "      <td>4.235333</td>\n",
       "      <td>4.235563</td>\n",
       "      <td>4.235786</td>\n",
       "    </tr>\n",
       "    <tr>\n",
       "      <th>2025-04-30</th>\n",
       "      <td>4.275483</td>\n",
       "      <td>4.219959</td>\n",
       "      <td>4.186401</td>\n",
       "      <td>4.166683</td>\n",
       "      <td>4.155615</td>\n",
       "      <td>4.149892</td>\n",
       "      <td>4.147421</td>\n",
       "      <td>4.146880</td>\n",
       "      <td>4.147448</td>\n",
       "      <td>4.148614</td>\n",
       "      <td>...</td>\n",
       "      <td>4.172404</td>\n",
       "      <td>4.172540</td>\n",
       "      <td>4.172670</td>\n",
       "      <td>4.172796</td>\n",
       "      <td>4.172917</td>\n",
       "      <td>4.173034</td>\n",
       "      <td>4.173146</td>\n",
       "      <td>4.173255</td>\n",
       "      <td>4.173360</td>\n",
       "      <td>4.173462</td>\n",
       "    </tr>\n",
       "    <tr>\n",
       "      <th>2025-05-31</th>\n",
       "      <td>4.265166</td>\n",
       "      <td>4.210391</td>\n",
       "      <td>4.176733</td>\n",
       "      <td>4.156268</td>\n",
       "      <td>4.144014</td>\n",
       "      <td>4.136847</td>\n",
       "      <td>4.132808</td>\n",
       "      <td>4.130677</td>\n",
       "      <td>4.129694</td>\n",
       "      <td>4.129387</td>\n",
       "      <td>...</td>\n",
       "      <td>4.136915</td>\n",
       "      <td>4.136965</td>\n",
       "      <td>4.137012</td>\n",
       "      <td>4.137058</td>\n",
       "      <td>4.137102</td>\n",
       "      <td>4.137145</td>\n",
       "      <td>4.137186</td>\n",
       "      <td>4.137226</td>\n",
       "      <td>4.137264</td>\n",
       "      <td>4.137301</td>\n",
       "    </tr>\n",
       "  </tbody>\n",
       "</table>\n",
       "<p>5 rows × 60 columns</p>\n",
       "</div>"
      ],
      "text/plain": [
       "                0.5       1.0       1.5       2.0       2.5       3.0   \\\n",
       "2025-01-31  4.284134  4.239850  4.219380  4.214566  4.219759  4.231083   \n",
       "2025-02-28  4.289024  4.237939  4.210202  4.197494  4.194258  4.196806   \n",
       "2025-03-31  4.284347  4.229781  4.197922  4.180507  4.172148  4.169355   \n",
       "2025-04-30  4.275483  4.219959  4.186401  4.166683  4.155615  4.149892   \n",
       "2025-05-31  4.265166  4.210391  4.176733  4.156268  4.144014  4.136847   \n",
       "\n",
       "                3.5       4.0       4.5       5.0   ...      25.5      26.0  \\\n",
       "2025-01-31  4.245906  4.262468  4.279612  4.296600  ...  4.517277  4.518535   \n",
       "2025-02-28  4.202715  4.210416  4.218906  4.227563  ...  4.338431  4.339044   \n",
       "2025-03-31  4.169884  4.172304  4.175715  4.179562  ...  4.233466  4.233763   \n",
       "2025-04-30  4.147421  4.146880  4.147448  4.148614  ...  4.172404  4.172540   \n",
       "2025-05-31  4.132808  4.130677  4.129694  4.129387  ...  4.136915  4.136965   \n",
       "\n",
       "                26.5      27.0      27.5      28.0      28.5      29.0  \\\n",
       "2025-01-31  4.519745  4.520910  4.522033  4.523116  4.524160  4.525169   \n",
       "2025-02-28  4.339634  4.340202  4.340749  4.341277  4.341787  4.342278   \n",
       "2025-03-31  4.234050  4.234325  4.234591  4.234847  4.235094  4.235333   \n",
       "2025-04-30  4.172670  4.172796  4.172917  4.173034  4.173146  4.173255   \n",
       "2025-05-31  4.137012  4.137058  4.137102  4.137145  4.137186  4.137226   \n",
       "\n",
       "                29.5      30.0  \n",
       "2025-01-31  4.526144  4.527086  \n",
       "2025-02-28  4.342753  4.343213  \n",
       "2025-03-31  4.235563  4.235786  \n",
       "2025-04-30  4.173360  4.173462  \n",
       "2025-05-31  4.137264  4.137301  \n",
       "\n",
       "[5 rows x 60 columns]"
      ]
     },
     "execution_count": 15,
     "metadata": {},
     "output_type": "execute_result"
    }
   ],
   "source": [
    "forecasted_yield_df.head()"
   ]
  },
  {
   "cell_type": "code",
   "execution_count": 16,
   "id": "1e531860",
   "metadata": {},
   "outputs": [],
   "source": [
    "forecasted_yield_df.to_csv('results/forecasted_yield_halfyear_mat.csv')"
   ]
  },
  {
   "cell_type": "markdown",
   "id": "2ff8af89",
   "metadata": {},
   "source": [
    "# Step 3."
   ]
  },
  {
   "cell_type": "markdown",
   "id": "a6449328",
   "metadata": {},
   "source": [
    "## maturity time 15"
   ]
  },
  {
   "cell_type": "markdown",
   "id": "5c696a90",
   "metadata": {},
   "source": [
    "### 1 year"
   ]
  },
  {
   "cell_type": "code",
   "execution_count": null,
   "id": "e6d54290",
   "metadata": {},
   "outputs": [
    {
     "name": "stdout",
     "output_type": "stream",
     "text": [
      "US29364WBA53 ISIN: 1.7366%\n",
      "US3130AE4K36 ISIN: 1.8477%\n",
      "US3130AEJQ42 ISIN: 1.5927%\n",
      "US3133EJR438 ISIN: -4.6032%\n",
      "US3133EJW545 ISIN: -5.1527%\n",
      "XS1451090192 ISIN: 4.6530%\n",
      "XS1451093709 ISIN: 3.9706%\n",
      "XS1451122573 ISIN: 3.5771%\n"
     ]
    }
   ],
   "source": [
    "df_all = pd.read_csv('3 bond return prediction/15 .csv')\n",
    "df_all['date'] = pd.to_datetime(df_all['date'])\n",
    "df_all['mid_price'] = (df_all['bid'] + df_all['ask']) / 2\n",
    "\n",
    "df_all['credit spread'] = df_all['credit spread'] / 10000\n",
    "\n",
    "predict_horizon = 12\n",
    "\n",
    "\n",
    "results = []\n",
    "\n",
    "for bond_name, df in df_all.groupby('Name'):\n",
    "    df = df.sort_values('date').reset_index(drop=True)\n",
    "    df['future_mid_price'] = df['mid_price'].shift(-predict_horizon)\n",
    "    df['future_annual_return'] = (df['future_mid_price'] / df['mid_price']) ** (12 / predict_horizon) - 1\n",
    "    df = df.dropna(subset=['future_annual_return'])\n",
    "\n",
    "    features = ['bid', 'ask', 'credit spread', 'yield', 'bid-ask', 'GDP', 'CPIAUCSL', 'UNRATE', 'PCE']\n",
    "    X = df[features]\n",
    "    y = df['future_annual_return']\n",
    "\n",
    "\n",
    "    if len(df) < 24:\n",
    "        continue\n",
    "\n",
    "    X_train, X_test, y_train, y_test = train_test_split(X, y, test_size=0.2, shuffle=False)\n",
    "\n",
    "    model = XGBRegressor(n_estimators=100, max_depth=3, learning_rate=0.1, random_state=42)\n",
    "    model.fit(X_train, y_train)\n",
    "\n",
    "    last_data = df[features].iloc[-1].values.reshape(1, -1)\n",
    "    future_return_pred = model.predict(last_data)[0]\n",
    "\n",
    "    results.append({\n",
    "        'Bond Name': bond_name,\n",
    "        'Predicted Annual Return (next 12 months)': f\"{future_return_pred:.4%}\"\n",
    "    })\n",
    "\n",
    "for r in results:\n",
    "    print(f\"{r['Bond Name']}: {r['Predicted Annual Return (next 12 months)']}\")\n"
   ]
  },
  {
   "cell_type": "markdown",
   "id": "d289d1ac",
   "metadata": {},
   "source": [
    "### 3 year"
   ]
  },
  {
   "cell_type": "code",
   "execution_count": null,
   "id": "ac878242",
   "metadata": {},
   "outputs": [
    {
     "name": "stdout",
     "output_type": "stream",
     "text": [
      "US29364WBA53 ISIN: -7.8251%\n",
      "US3130AE4K36 ISIN: -2.0123%\n",
      "US3130AEJQ42 ISIN: -1.7022%\n",
      "US3133EJR438 ISIN: -9.3475%\n",
      "US3133EJW545 ISIN: -8.8584%\n",
      "XS1451090192 ISIN: -5.5244%\n",
      "XS1451093709 ISIN: -6.0829%\n",
      "XS1451122573 ISIN: -8.2800%\n"
     ]
    }
   ],
   "source": [
    "predict_horizon = 36\n",
    "\n",
    "results = []\n",
    "\n",
    "for bond_name, df in df_all.groupby('Name'):\n",
    "    df = df.sort_values('date').reset_index(drop=True)\n",
    "    df['future_mid_price'] = df['mid_price'].shift(-predict_horizon)\n",
    "    df['future_annual_return'] = (df['future_mid_price'] / df['mid_price']) ** (12 / predict_horizon) - 1\n",
    "    df = df.dropna(subset=['future_annual_return'])\n",
    "\n",
    "    features = ['bid', 'ask', 'credit spread', 'yield', 'bid-ask', 'GDP', 'CPIAUCSL', 'UNRATE', 'PCE']\n",
    "    X = df[features]\n",
    "    y = df['future_annual_return']\n",
    "\n",
    "    if len(df) < 24:\n",
    "        continue\n",
    "\n",
    "    X_train, X_test, y_train, y_test = train_test_split(X, y, test_size=0.2, shuffle=False)\n",
    "\n",
    "    model = XGBRegressor(n_estimators=100, max_depth=3, learning_rate=0.1, random_state=42)\n",
    "    model.fit(X_train, y_train)\n",
    "\n",
    "    last_data = df[features].iloc[-1].values.reshape(1, -1)\n",
    "    future_return_pred = model.predict(last_data)[0]\n",
    "\n",
    "    results.append({\n",
    "        'Bond Name': bond_name,\n",
    "        'Predicted Annual Return (next 12 months)': f\"{future_return_pred:.4%}\"\n",
    "    })\n",
    "for r in results:\n",
    "    print(f\"{r['Bond Name']}: {r['Predicted Annual Return (next 12 months)']}\")"
   ]
  },
  {
   "cell_type": "markdown",
   "id": "b81e1c90",
   "metadata": {},
   "source": [
    "### 4 year"
   ]
  },
  {
   "cell_type": "code",
   "execution_count": null,
   "id": "8be2c5f9",
   "metadata": {},
   "outputs": [
    {
     "name": "stdout",
     "output_type": "stream",
     "text": [
      "US29364WBA53 ISIN: -6.2605%\n",
      "US3130AE4K36 ISIN: -4.2759%\n",
      "US3130AEJQ42 ISIN: -4.2250%\n",
      "US3133EJR438 ISIN: -6.3407%\n",
      "US3133EJW545 ISIN: -6.1206%\n",
      "XS1451090192 ISIN: -2.8635%\n",
      "XS1451093709 ISIN: -4.3343%\n",
      "XS1451122573 ISIN: -6.2739%\n"
     ]
    }
   ],
   "source": [
    "predict_horizon = 48\n",
    "\n",
    "results = []\n",
    "\n",
    "for bond_name, df in df_all.groupby('Name'):\n",
    "    df = df.sort_values('date').reset_index(drop=True)\n",
    "    df['future_mid_price'] = df['mid_price'].shift(-predict_horizon)\n",
    "    df['future_annual_return'] = (df['future_mid_price'] / df['mid_price']) ** (12 / predict_horizon) - 1\n",
    "    df = df.dropna(subset=['future_annual_return'])\n",
    "\n",
    "    features = ['bid', 'ask', 'credit spread', 'yield', 'bid-ask', 'GDP', 'CPIAUCSL', 'UNRATE', 'PCE']\n",
    "    X = df[features]\n",
    "    y = df['future_annual_return']\n",
    "\n",
    "    if len(df) < 24:\n",
    "        continue\n",
    "\n",
    "    X_train, X_test, y_train, y_test = train_test_split(X, y, test_size=0.2, shuffle=False)\n",
    "\n",
    "    model = XGBRegressor(n_estimators=100, max_depth=3, learning_rate=0.1, random_state=42)\n",
    "    model.fit(X_train, y_train)\n",
    "\n",
    "    last_data = df[features].iloc[-1].values.reshape(1, -1)\n",
    "    future_return_pred = model.predict(last_data)[0]\n",
    "\n",
    "    results.append({\n",
    "        'Bond Name': bond_name,\n",
    "        f'Predicted Annual Return (next {predict_horizon} months)': f\"{future_return_pred:.4%}\"\n",
    "    })\n",
    "\n",
    "for r in results:\n",
    "    bond = r['Bond Name']\n",
    "    val = list(r.values())[1]\n",
    "    print(f\"{bond}: {val}\")"
   ]
  },
  {
   "cell_type": "markdown",
   "id": "d207146e",
   "metadata": {},
   "source": [
    "## maturity time 10"
   ]
  },
  {
   "cell_type": "markdown",
   "id": "ec873182",
   "metadata": {},
   "source": [
    "### 1 year"
   ]
  },
  {
   "cell_type": "code",
   "execution_count": null,
   "id": "809c1dfc",
   "metadata": {},
   "outputs": [
    {
     "name": "stdout",
     "output_type": "stream",
     "text": [
      "AU3CB0250652 ISIN: -6.7614%\n",
      "US06406RAH03 ISIN: 6.6689%\n",
      "US29364DAV29 ISIN: -1.3278%\n",
      "US3130AFFX04 ISIN: 0.8786%\n",
      "US369550BC16 ISIN: 1.4922%\n",
      "US377372AN70 ISIN: -0.3205%\n",
      "US437076BW12 ISIN: -5.3285%\n",
      "US64110LAT35 ISIN: -10.0025%\n",
      "US91159HHS22 ISIN: -2.0899%\n",
      "XS1748803282 ISIN: -1.9145%\n"
     ]
    }
   ],
   "source": [
    "df_all = pd.read_csv('3 bond return prediction/10 .csv')\n",
    "df_all['date'] = pd.to_datetime(df_all['date'])\n",
    "df_all['mid_price'] = (pd.to_numeric(df_all['bid'], errors='coerce') + pd.to_numeric(df_all['ask'], errors='coerce')) / 2\n",
    "\n",
    "df_all['credit spread'] = pd.to_numeric(df_all['credit spread'], errors='coerce') / 10000\n",
    "\n",
    "predict_horizon = 12\n",
    "\n",
    "results = []\n",
    "\n",
    "for bond_name, df in df_all.groupby('name'):\n",
    "    df = df.sort_values('date').reset_index(drop=True)\n",
    "    df['future_mid_price'] = df['mid_price'].shift(-predict_horizon)\n",
    "    df['future_annual_return'] = (df['future_mid_price'] / df['mid_price']) ** (12 / predict_horizon) - 1\n",
    "    df = df.dropna(subset=['future_annual_return'])\n",
    "\n",
    "    features = ['bid', 'ask', 'credit spread', 'yield', 'bid-ask', 'GDP', 'CPIAUCSL', 'UNRATE', 'PCE']\n",
    "    for col in features:\n",
    "        df[col] = pd.to_numeric(df[col], errors='coerce')\n",
    "    X = df[features]\n",
    "    y = df['future_annual_return']\n",
    "\n",
    "    if len(df) < 24:\n",
    "        continue\n",
    "\n",
    "    X_train, X_test, y_train, y_test = train_test_split(X, y, test_size=0.2, shuffle=False)\n",
    "\n",
    "    model = XGBRegressor(n_estimators=100, max_depth=3, learning_rate=0.1, random_state=42)\n",
    "    model.fit(X_train, y_train)\n",
    "\n",
    "    last_data = df[features].iloc[-1].values.reshape(1, -1)\n",
    "    future_return_pred = model.predict(last_data)[0]\n",
    "\n",
    "    results.append({\n",
    "        'Bond Name': str(bond_name),\n",
    "        'Predicted Annual Return (next ' + str(predict_horizon) + ' months)': f\"{future_return_pred:.4%}\"\n",
    "    })\n",
    "\n",
    "for r in results:\n",
    "    bond = str(r['Bond Name'])\n",
    "    val = list(r.values())[1]\n",
    "    print(f\"{bond}: {val}\")\n"
   ]
  },
  {
   "cell_type": "markdown",
   "id": "e4b1e309",
   "metadata": {},
   "source": [
    "### 3 year"
   ]
  },
  {
   "cell_type": "code",
   "execution_count": null,
   "id": "18cf81d1",
   "metadata": {},
   "outputs": [
    {
     "name": "stdout",
     "output_type": "stream",
     "text": [
      "AU3CB0250652 ISIN: -1.1394%\n",
      "US06406RAH03 ISIN: -5.0092%\n",
      "US29364DAV29 ISIN: -4.9242%\n",
      "US3130AFFX04 ISIN: -5.8416%\n",
      "US369550BC16 ISIN: -4.7842%\n",
      "US377372AN70 ISIN: -5.2165%\n",
      "US437076BW12 ISIN: -5.2292%\n",
      "US64110LAT35 ISIN: -5.0472%\n",
      "US91159HHS22 ISIN: -5.4968%\n",
      "XS1748803282 ISIN: -1.4205%\n"
     ]
    }
   ],
   "source": [
    "predict_horizon = 36\n",
    "\n",
    "results = []\n",
    "\n",
    "for bond_name, df in df_all.groupby('name'):\n",
    "    df = df.sort_values('date').reset_index(drop=True)\n",
    "    df['future_mid_price'] = df['mid_price'].shift(-predict_horizon)\n",
    "    df['future_annual_return'] = (df['future_mid_price'] / df['mid_price']) ** (12 / predict_horizon) - 1\n",
    "    df = df.dropna(subset=['future_annual_return'])\n",
    "\n",
    "    features = ['bid', 'ask', 'credit spread', 'yield', 'bid-ask', 'GDP', 'CPIAUCSL', 'UNRATE', 'PCE']\n",
    "    for col in features:\n",
    "        df[col] = pd.to_numeric(df[col], errors='coerce')\n",
    "    X = df[features]\n",
    "    y = df['future_annual_return']\n",
    "\n",
    "    if len(df) < 24:\n",
    "        continue\n",
    "\n",
    "    X_train, X_test, y_train, y_test = train_test_split(X, y, test_size=0.2, shuffle=False)\n",
    "\n",
    "    model = XGBRegressor(n_estimators=100, max_depth=3, learning_rate=0.1, random_state=42)\n",
    "    model.fit(X_train, y_train)\n",
    "\n",
    "    last_data = df[features].iloc[-1].values.reshape(1, -1)\n",
    "    future_return_pred = model.predict(last_data)[0]\n",
    "\n",
    "    results.append({\n",
    "        'Bond Name': str(bond_name),\n",
    "        'Predicted Annual Return (next ' + str(predict_horizon) + ' months)': f\"{future_return_pred:.4%}\"\n",
    "    })\n",
    "\n",
    "for r in results:\n",
    "    bond = str(r['Bond Name'])\n",
    "    val = list(r.values())[1]\n",
    "    print(f\"{bond}: {val}\")"
   ]
  },
  {
   "cell_type": "markdown",
   "id": "d73dbd5e",
   "metadata": {},
   "source": [
    "## maturity time 7"
   ]
  },
  {
   "cell_type": "markdown",
   "id": "e2550e61",
   "metadata": {},
   "source": [
    "### 1 year"
   ]
  },
  {
   "cell_type": "code",
   "execution_count": null,
   "id": "f4312188",
   "metadata": {},
   "outputs": [
    {
     "name": "stdout",
     "output_type": "stream",
     "text": [
      "US06654DAF42 ISIN: 2.0441%\n",
      "US09247XAS09  ISIN: -0.6789%\n",
      "US09261BAD29 ISIN: -4.3178%\n",
      "US191216DP21 ISIN: -2.9236%\n",
      "US29364WBH07 ISIN: -0.6622%\n",
      "US46647PBX33 ISIN: 0.8218%\n",
      "US46647PCC86 ISIN: 0.2345%\n",
      "US46647PCR55 ISIN: -1.4113%\n",
      "US72014TAC36 ISIN: -1.9123%\n",
      "XS2296204444 ISIN: 1.6801%\n"
     ]
    }
   ],
   "source": [
    "df_all = pd.read_csv('3 bond return prediction/7.csv')\n",
    "df_all['date'] = pd.to_datetime(df_all['date'])\n",
    "df_all['mid_price'] = (pd.to_numeric(df_all['bid'], errors='coerce') + pd.to_numeric(df_all['ask'], errors='coerce')) / 2\n",
    "\n",
    "df_all['credit spread'] = pd.to_numeric(df_all['credit spread'], errors='coerce') / 10000\n",
    "\n",
    "predict_horizon = 12\n",
    "\n",
    "results = []\n",
    "\n",
    "\n",
    "for bond_name, df in df_all.groupby('name'):\n",
    "    df = df.sort_values('date').reset_index(drop=True)\n",
    "    df['future_mid_price'] = df['mid_price'].shift(-predict_horizon)\n",
    "    df['future_annual_return'] = (df['future_mid_price'] / df['mid_price']) ** (12 / predict_horizon) - 1\n",
    "    df = df.dropna(subset=['future_annual_return'])\n",
    "\n",
    "\n",
    "    features = ['bid', 'ask', 'credit spread', 'yield', 'bid-ask', 'GDP', 'CPIAUCSL', 'UNRATE', 'PCE']\n",
    "    for col in features:\n",
    "        df[col] = pd.to_numeric(df[col], errors='coerce')\n",
    "    X = df[features]\n",
    "    y = df['future_annual_return']\n",
    "\n",
    "\n",
    "    if len(df) < 24:\n",
    "        continue\n",
    "\n",
    "    X_train, X_test, y_train, y_test = train_test_split(X, y, test_size=0.2, shuffle=False)\n",
    "\n",
    "    model = XGBRegressor(n_estimators=100, max_depth=3, learning_rate=0.1, random_state=42)\n",
    "    model.fit(X_train, y_train)\n",
    "\n",
    "    last_data = df[features].iloc[-1].values.reshape(1, -1)\n",
    "    future_return_pred = model.predict(last_data)[0]\n",
    "\n",
    "    results.append({\n",
    "        'Bond Name': str(bond_name),\n",
    "        'Predicted Annual Return (next ' + str(predict_horizon) + ' months)': f\"{future_return_pred:.4%}\"\n",
    "    })\n",
    "\n",
    "for r in results:\n",
    "    bond = str(r['Bond Name'])\n",
    "    val = list(r.values())[1]\n",
    "    print(f\"{bond}: {val}\")"
   ]
  },
  {
   "cell_type": "markdown",
   "id": "e9ccdab7",
   "metadata": {},
   "source": [
    "## maturity time 5"
   ]
  },
  {
   "cell_type": "markdown",
   "id": "00ed0bb0",
   "metadata": {},
   "source": [
    "### one year"
   ]
  },
  {
   "cell_type": "code",
   "execution_count": null,
   "id": "6cbada37",
   "metadata": {},
   "outputs": [
    {
     "name": "stdout",
     "output_type": "stream",
     "text": [
      "US3130AKM522 ISIN: -1.6856%\n",
      "US3130ALEJ96 ISIN: -1.4906%\n",
      "US3133EM6A50 ISIN: -0.7193%\n",
      "US48128G3D03 ISIN: 2.3605%\n",
      "US668103AA24 ISIN: -4.4231%\n",
      "XS2339398971 ISIN: 2.3738%\n",
      "XS2384697830 ISIN: -2.2488%\n"
     ]
    }
   ],
   "source": [
    "df_all = pd.read_csv('3 bond return prediction/5.csv') \n",
    "df_all['date'] = pd.to_datetime(df_all['date'])\n",
    "df_all['mid_price'] = (pd.to_numeric(df_all['bid'], errors='coerce') + pd.to_numeric(df_all['ask'], errors='coerce')) / 2\n",
    "\n",
    "df_all['credit spread'] = pd.to_numeric(df_all['credit spread'], errors='coerce') / 10000\n",
    "\n",
    "\n",
    "predict_horizon = 12\n",
    "\n",
    "results = []\n",
    "\n",
    "\n",
    "for bond_name, df in df_all.groupby('name'):\n",
    "    df = df.sort_values('date').reset_index(drop=True)\n",
    "    df['future_mid_price'] = df['mid_price'].shift(-predict_horizon)\n",
    "    df['future_annual_return'] = (df['future_mid_price'] / df['mid_price']) ** (12 / predict_horizon) - 1\n",
    "    df = df.dropna(subset=['future_annual_return'])\n",
    "\n",
    "    features = ['bid', 'ask', 'credit spread', 'yield', 'bid-ask', 'GDP', 'CPIAUCSL', 'UNRATE', 'PCE']\n",
    "    for col in features:\n",
    "        df[col] = pd.to_numeric(df[col], errors='coerce')\n",
    "    X = df[features]\n",
    "    y = df['future_annual_return']\n",
    "\n",
    "    if len(df) < 24:\n",
    "        continue\n",
    "\n",
    "    X_train, X_test, y_train, y_test = train_test_split(X, y, test_size=0.2, shuffle=False)\n",
    "\n",
    "    model = XGBRegressor(n_estimators=100, max_depth=3, learning_rate=0.1, random_state=42)\n",
    "    model.fit(X_train, y_train)\n",
    "\n",
    "    last_data = df[features].iloc[-1].values.reshape(1, -1)\n",
    "    future_return_pred = model.predict(last_data)[0]\n",
    "\n",
    "    results.append({\n",
    "        'Bond Name': str(bond_name),\n",
    "        'Predicted Annual Return (next ' + str(predict_horizon) + ' months)': f\"{future_return_pred:.4%}\"\n",
    "    })\n",
    "\n",
    "for r in results:\n",
    "    bond = str(r['Bond Name'])\n",
    "    val = list(r.values())[1]\n",
    "    print(f\"{bond}: {val}\")"
   ]
  },
  {
   "cell_type": "markdown",
   "id": "97dd0f16",
   "metadata": {},
   "source": [
    "### two year"
   ]
  },
  {
   "cell_type": "code",
   "execution_count": null,
   "id": "234647b0",
   "metadata": {},
   "outputs": [
    {
     "name": "stdout",
     "output_type": "stream",
     "text": [
      "US3130AKM522 ISIN: -1.1114%\n",
      "US668103AA24 ISIN: -1.1739%\n"
     ]
    }
   ],
   "source": [
    "predict_horizon = 24\n",
    "\n",
    "results = []\n",
    "\n",
    "for bond_name, df in df_all.groupby('name'):\n",
    "    df = df.sort_values('date').reset_index(drop=True)\n",
    "    df['future_mid_price'] = df['mid_price'].shift(-predict_horizon)\n",
    "    df['future_annual_return'] = (df['future_mid_price'] / df['mid_price']) ** (12 / predict_horizon) - 1\n",
    "    df = df.dropna(subset=['future_annual_return'])\n",
    "\n",
    "    features = ['bid', 'ask', 'credit spread', 'yield', 'bid-ask', 'GDP', 'CPIAUCSL', 'UNRATE', 'PCE']\n",
    "    for col in features:\n",
    "        df[col] = pd.to_numeric(df[col], errors='coerce')\n",
    "    X = df[features]\n",
    "    y = df['future_annual_return']\n",
    "\n",
    "    if len(df) < 24:\n",
    "        continue\n",
    "\n",
    "    X_train, X_test, y_train, y_test = train_test_split(X, y, test_size=0.2, shuffle=False)\n",
    "\n",
    "    model = XGBRegressor(n_estimators=100, max_depth=3, learning_rate=0.1, random_state=42)\n",
    "    model.fit(X_train, y_train)\n",
    "\n",
    "    last_data = df[features].iloc[-1].values.reshape(1, -1)\n",
    "    future_return_pred = model.predict(last_data)[0]\n",
    "\n",
    "    results.append({\n",
    "        'Bond Name': str(bond_name),\n",
    "        'Predicted Annual Return (next ' + str(predict_horizon) + ' months)': f\"{future_return_pred:.4%}\"\n",
    "    })\n",
    "\n",
    "for r in results:\n",
    "    bond = str(r['Bond Name'])\n",
    "    val = list(r.values())[1]\n",
    "    print(f\"{bond}: {val}\")"
   ]
  },
  {
   "cell_type": "markdown",
   "id": "5ae65a48",
   "metadata": {},
   "source": [
    "## maturity time 3"
   ]
  },
  {
   "cell_type": "markdown",
   "id": "5313e102",
   "metadata": {},
   "source": [
    "### one year"
   ]
  },
  {
   "cell_type": "code",
   "execution_count": null,
   "id": "471d583f",
   "metadata": {},
   "outputs": [],
   "source": [
    "df_all = pd.read_csv('3 bond return prediction/3 .csv') \n",
    "df_all['date'] = pd.to_datetime(df_all['date'])\n",
    "df_all['mid_price'] = (pd.to_numeric(df_all['bid'], errors='coerce') + pd.to_numeric(df_all['ask'], errors='coerce')) / 2\n",
    "\n",
    "df_all['credit spread'] = pd.to_numeric(df_all['credit spread'], errors='coerce') / 10000\n",
    "\n",
    "predict_horizon = 6\n",
    "\n",
    "results = []\n",
    "\n",
    "for bond_name, df in df_all.groupby('name'):\n",
    "    df = df.sort_values('date').reset_index(drop=True)\n",
    "    df['future_mid_price'] = df['mid_price'].shift(-predict_horizon)\n",
    "    df['future_annual_return'] = (df['future_mid_price'] / df['mid_price']) ** (12 / predict_horizon) - 1\n",
    "    df = df.dropna(subset=['future_annual_return'])\n",
    "\n",
    "    features = ['bid', 'ask', 'credit spread', 'yield', 'bid-ask', 'GDP', 'CPIAUCSL', 'UNRATE', 'PCE']\n",
    "    for col in features:\n",
    "        df[col] = pd.to_numeric(df[col], errors='coerce')\n",
    "    X = df[features]\n",
    "    y = df['future_annual_return']\n",
    "\n",
    "    if len(df) < 24:\n",
    "        continue\n",
    "\n",
    "    X_train, X_test, y_train, y_test = train_test_split(X, y, test_size=0.2, shuffle=False)\n",
    "\n",
    "    model = XGBRegressor(n_estimators=100, max_depth=3, learning_rate=0.1, random_state=42)\n",
    "    model.fit(X_train, y_train)\n",
    "\n",
    "    last_data = df[features].iloc[-1].values.reshape(1, -1)\n",
    "    future_return_pred = model.predict(last_data)[0]\n",
    "\n",
    "    results.append({\n",
    "        'Bond Name': str(bond_name),\n",
    "        'Predicted Annual Return (next ' + str(predict_horizon) + ' months)': f\"{future_return_pred:.4%}\"\n",
    "    })\n",
    "\n",
    "for r in results:\n",
    "    bond = str(r['Bond Name'])\n",
    "    val = list(r.values())[1]\n",
    "    print(f\"{bond}: {val}\")"
   ]
  },
  {
   "cell_type": "markdown",
   "id": "b605c61f",
   "metadata": {},
   "source": [
    "# Step 4.1 Bond Portfolio Optimization with Duration & Convexity"
   ]
  },
  {
   "cell_type": "code",
   "execution_count": null,
   "id": "0a82b01d",
   "metadata": {},
   "outputs": [],
   "source": [
    "data_path = '4 portfolio optimization/summary of bonds.xlsx'\n",
    "bonds = pd.read_excel(data_path)\n",
    "\n",
    "yield_curve = pd.read_excel('4 portfolio optimization/forecasted_yield_rate_standardized.xlsx')"
   ]
  },
  {
   "cell_type": "code",
   "execution_count": null,
   "id": "d79303c6",
   "metadata": {},
   "outputs": [],
   "source": [
    "def calculate_duration_convexity(face_value, coupon_rate, maturity, freq, yield_curve):\n",
    "    periods = int(np.round(maturity * freq))\n",
    "    coupon = face_value * coupon_rate / freq\n",
    "\n",
    "    times = np.array(range(1, periods + 1)) / freq\n",
    "    cashflows = np.full(periods, coupon)\n",
    "    cashflows[-1] += face_value\n",
    "\n",
    "    discount_factors = []\n",
    "    for t in times:\n",
    "        closest = yield_curve.iloc[(yield_curve['Maturity'] - t).abs().argsort()[:1]]\n",
    "        ytm_t = closest['Yield'].values[0] / 100\n",
    "        discount_factor = 1 / (1 + ytm_t) ** t\n",
    "        discount_factors.append(discount_factor)\n",
    "\n",
    "    discount_factors = np.array(discount_factors)\n",
    "    pv_cashflows = cashflows * discount_factors\n",
    "\n",
    "    macaulay_duration = np.sum(times * pv_cashflows) / np.sum(pv_cashflows)\n",
    "    convexity = np.sum(pv_cashflows * times * (times + 1/freq)) / (np.sum(pv_cashflows) * (1 + np.mean(yield_curve['Yield']/100))**2)\n",
    "\n",
    "    return macaulay_duration, convexity"
   ]
  },
  {
   "cell_type": "code",
   "execution_count": null,
   "id": "8d7fd495",
   "metadata": {},
   "outputs": [],
   "source": [
    "bond_durations = []\n",
    "bond_convexities = []\n",
    "\n",
    "for i, row in bonds.iterrows():\n",
    "    face_value = 100\n",
    "    coupon_rate = row['coupon rate']\n",
    "    maturity = row['remaining maturity']\n",
    "    freq = row['cpn freq']\n",
    "\n",
    "    duration, convexity = calculate_duration_convexity(face_value, coupon_rate, maturity, freq, yield_curve)\n",
    "\n",
    "    bond_durations.append(duration)\n",
    "    bond_convexities.append(convexity)\n",
    "\n",
    "bond_durations = np.array(bond_durations)\n",
    "bond_convexities = np.array(bond_convexities)"
   ]
  },
  {
   "cell_type": "code",
   "execution_count": null,
   "id": "77f4531e",
   "metadata": {},
   "outputs": [],
   "source": [
    "target_duration = 5\n",
    "lambda_convexity = 0.01\n",
    "def objective(weights):\n",
    "    portfolio_duration = np.dot(weights, bond_durations)\n",
    "    portfolio_convexity = np.dot(weights, bond_convexities)\n",
    "    return (portfolio_duration - target_duration) ** 2 - lambda_convexity * portfolio_convexity\n",
    "\n",
    "def constraint_sum(weights):\n",
    "    return np.sum(weights) - 1\n",
    "\n",
    "bounds = [(0, 1)] * len(bond_durations)\n",
    "initial_weights = np.array([1/len(bond_durations)] * len(bond_durations))\n",
    "constraints = ({'type': 'eq', 'fun': constraint_sum})"
   ]
  },
  {
   "cell_type": "code",
   "execution_count": null,
   "id": "185b8794",
   "metadata": {},
   "outputs": [],
   "source": [
    "result = minimize(objective, initial_weights, method='SLSQP', bounds=bounds, constraints=constraints)\n",
    "\n",
    "optimal_weights = result.x\n",
    "final_duration = np.dot(optimal_weights, bond_durations)\n",
    "final_convexity = np.dot(optimal_weights, bond_convexities)"
   ]
  },
  {
   "cell_type": "code",
   "execution_count": null,
   "id": "a7a15fe3",
   "metadata": {},
   "outputs": [],
   "source": [
    "print(\"\\n Optimal weights of bonds:\")\n",
    "for i, w in enumerate(optimal_weights):\n",
    "    print(f\"bond {bonds.iloc[i]['ISIN']}: weight {w:.4f}\")\n",
    "\n",
    "print(f\"\\n Duration of Portfolio: {final_duration:.4f} years\")\n",
    "print(f\"Convexity of Portfolio: {final_convexity:.4f}\")"
   ]
  },
  {
   "cell_type": "code",
   "execution_count": null,
   "id": "3c35ad03",
   "metadata": {},
   "outputs": [],
   "source": [
    "price_data = pd.read_excel('4 portfolio optimization/price_data2.xlsx') \n",
    "price_data = price_data.set_index(price_data.columns[0])\n",
    "\n",
    "bond_ids = bonds['ISIN'].tolist()\n",
    "price_data = price_data[bond_ids]\n",
    "\n",
    "daily_portfolio_value = (price_data * optimal_weights).sum(axis=1)\n",
    "\n",
    "portfolio_returns = daily_portfolio_value.pct_change().dropna()\n",
    "\n",
    "annualized_return = (1 + portfolio_returns.mean()) ** 12 - 1\n",
    "annualized_volatility = portfolio_returns.std() * np.sqrt(12)\n",
    "sharpe_ratio = annualized_return / annualized_volatility\n",
    "\n",
    "print(f\"\\n annualized return: {annualized_return:.4%}\")\n",
    "print(f\" annualized volatility: {annualized_volatility:.4%}\")\n",
    "print(f\" sharp ratio: {sharpe_ratio:.4f}\")\n",
    "\n",
    "cumulative_returns = (1 + portfolio_returns).cumprod()\n",
    "\n",
    "plt.figure(figsize=(10,6))\n",
    "plt.plot(cumulative_returns, label='Portfolio Cumulative Return')\n",
    "plt.title('Backtest Portfolio Cumulative Return')\n",
    "plt.xlabel('Date')\n",
    "plt.ylabel('Cumulative Return')\n",
    "plt.legend()\n",
    "plt.grid(True)\n",
    "plt.show()\n",
    "\n",
    "\n",
    "scenarios = [-0.01, -0.005, 0, 0.005, 0.01]  \n",
    "print(\"\\n Interest Rate Sensitivity Analysis:\")\n",
    "for delta_y in scenarios:\n",
    "    price_change = -final_duration * delta_y + 0.5 * final_convexity * (delta_y ** 2)\n",
    "    print(f\"Interest change {delta_y*10000:.1f}bps: price change {price_change*100:.4f}%\")"
   ]
  },
  {
   "cell_type": "markdown",
   "id": "f541e4f9",
   "metadata": {},
   "source": [
    "# Step 4.2 Bond Portfolio Optimization with VaR, ES, and MVO"
   ]
  },
  {
   "cell_type": "code",
   "execution_count": null,
   "id": "1c86938f",
   "metadata": {},
   "outputs": [
    {
     "name": "stdout",
     "output_type": "stream",
     "text": [
      "portfolio_result.xlsx\n"
     ]
    }
   ],
   "source": [
    "price_df = pd.read_excel('4 portfolio optimization/price_data2.xlsx', index_col=0)\n",
    "summary_df = pd.read_excel('4 portfolio optimization/summary of bonds.xlsx')\n",
    "returns = price_df.pct_change().dropna()\n",
    "\n",
    "conf_level = 0.95\n",
    "alpha = 1 - conf_level\n",
    "initial_capital = 100\n",
    "\n",
    "weights_record = []\n",
    "portfolio_value = [initial_capital]\n",
    "dates = returns.index\n",
    "\n",
    "for i in range(3, len(dates)):\n",
    "    past_returns = returns.iloc[i-3:i]\n",
    "\n",
    "    mu = past_returns.mean()\n",
    "    cov = past_returns.cov()\n",
    "    n = len(mu)\n",
    "    w = cp.Variable(n)\n",
    "\n",
    "    portfolio_return = mu.values @ w\n",
    "    portfolio_risk = cp.quad_form(w, cov.values)\n",
    "    objective = cp.Maximize(portfolio_return - 0.5 * portfolio_risk)\n",
    "\n",
    "    constraints = [\n",
    "        cp.sum(w) == 1,\n",
    "        w >= 0 \n",
    "    ]\n",
    "\n",
    "    prob = cp.Problem(objective, constraints)\n",
    "    prob.solve()\n",
    "\n",
    "    opt_w = w.value\n",
    "    weights_record.append(opt_w)\n",
    "\n",
    "    current_return = returns.iloc[i] @ opt_w\n",
    "    new_value = portfolio_value[-1] * (1 + current_return)\n",
    "    portfolio_value.append(new_value)\n",
    "weights_df = pd.DataFrame(weights_record, index=dates[3:], columns=returns.columns)\n",
    "portfolio_value_df = pd.DataFrame({'Portfolio Value': portfolio_value[1:]}, index=dates[3:])\n",
    "latest_returns = returns.iloc[-3:]\n",
    "VaR_95 = latest_returns.quantile(alpha)\n",
    "ES_95 = latest_returns[latest_returns.le(VaR_95)].mean()\n",
    "\n",
    "VaR_ES_summary = pd.DataFrame({\n",
    "    'VaR_95': VaR_95,\n",
    "    'Expected Shortfall_95': ES_95\n",
    "})\n",
    "\n",
    "with pd.ExcelWriter('results/portfolio_result.xlsx') as writer:\n",
    "    weights_df.to_excel(writer, sheet_name='Weights')\n",
    "    portfolio_value_df.to_excel(writer, sheet_name='Portfolio Value')\n",
    "    VaR_ES_summary.to_excel(writer, sheet_name='VaR_ES Summary')\n",
    "\n",
    "print(\"portfolio_result.xlsx\")"
   ]
  },
  {
   "cell_type": "code",
   "execution_count": null,
   "id": "685d063f-95c7-49d3-8312-a4279d1a246d",
   "metadata": {},
   "outputs": [
    {
     "name": "stdout",
     "output_type": "stream",
     "text": [
      "VaR (95%) = 0.0412\n",
      "Expected Shortfall (95%) = -0.0557\n"
     ]
    }
   ],
   "source": [
    "latest_returns = returns.iloc[-3:]\n",
    "cov = latest_returns.cov()\n",
    "mu = latest_returns.mean()\n",
    "\n",
    "final_weight = weights_record[-1]\n",
    "\n",
    "portfolio_mu = final_weight @ mu.values\n",
    "\n",
    "portfolio_sigma = np.sqrt(final_weight @ cov.values @ final_weight)\n",
    "\n",
    "VaR_95_combination = -(portfolio_mu + norm.ppf(alpha) * portfolio_sigma)\n",
    "ES_95_combination = -(portfolio_mu + (norm.pdf(norm.ppf(alpha)) / alpha) * portfolio_sigma)\n",
    "\n",
    "print(f\"VaR (95%) = {VaR_95_combination:.4f}\")\n",
    "print(f\"Expected Shortfall (95%) = {ES_95_combination:.4f}\")"
   ]
  },
  {
   "cell_type": "markdown",
   "id": "d3a147dc-e23b-427e-9eb0-dab19a111d26",
   "metadata": {},
   "source": [
    "## Interest Rate Shock Analysis"
   ]
  },
  {
   "cell_type": "code",
   "execution_count": null,
   "id": "976afe1e-86cd-4ae3-a4fb-ffae3d38d655",
   "metadata": {},
   "outputs": [
    {
     "name": "stdout",
     "output_type": "stream",
     "text": [
      "Portfolio Weighted Modified Duration: 7.0944\n",
      "Portfolio Weighted Convexity: 59.3820\n",
      "\n",
      "Interest Rate Shock Analysis:\n",
      "Interest Rate +50bp: Expected Portfolio Change = -3.47%\n",
      "Interest Rate +100bp: Expected Portfolio Change = -6.80%\n",
      "Interest Rate -50bp: Expected Portfolio Change = 3.62%\n",
      "Interest Rate -100bp: Expected Portfolio Change = 7.39%\n"
     ]
    }
   ],
   "source": [
    "\n",
    "summary_df = pd.read_excel('4 portfolio optimization/summary of bonds.xlsx')\n",
    "last_prices = price_df.iloc[-1]\n",
    "final_weights = np.array(weights_record[-1])\n",
    "ytm = 0.05\n",
    "def calculate_duration_convexity(maturity, coupon_rate, freq, price, ytm):\n",
    "    periods = int(maturity * freq)\n",
    "    coupon = coupon_rate / freq\n",
    "    ytm_per_period = ytm / freq\n",
    "\n",
    "    cashflows = np.array([coupon] * (periods - 1) + [1 + coupon])\n",
    "    times = np.arange(1, periods + 1)\n",
    "\n",
    "    discount_factors = (1 + ytm_per_period) ** (-times)\n",
    "    pv_cashflows = cashflows * discount_factors\n",
    "\n",
    "    macaulay_duration = np.sum(times * pv_cashflows) / np.sum(pv_cashflows)\n",
    "    modified_duration = macaulay_duration / (1 + ytm_per_period)\n",
    "    convexity = np.sum(times * (times + 1) * pv_cashflows) / (np.sum(pv_cashflows) * (1 + ytm_per_period)**2)\n",
    "\n",
    "    return modified_duration, convexity\n",
    "durations = []\n",
    "convexities = []\n",
    "\n",
    "for i in range(len(summary_df)):\n",
    "    maturity = summary_df.loc[i, 'remaining maturity']\n",
    "    coupon_rate = summary_df.loc[i, 'coupon rate']\n",
    "    freq = summary_df.loc[i, 'cpn freq']\n",
    "    isin = summary_df.loc[i, 'ISIN']\n",
    "    \n",
    "    if isin in last_prices.index:\n",
    "        price = last_prices[isin]\n",
    "        duration, convexity = calculate_duration_convexity(maturity, coupon_rate, freq, price, ytm)\n",
    "        durations.append(duration)\n",
    "        convexities.append(convexity)\n",
    "    else:\n",
    "        durations.append(np.nan)\n",
    "        convexities.append(np.nan)\n",
    "durations = np.array(durations)\n",
    "convexities = np.array(convexities)\n",
    "portfolio_duration = np.nansum(final_weights * durations)\n",
    "portfolio_convexity = np.nansum(final_weights * convexities)\n",
    "\n",
    "print(f\"Portfolio Weighted Modified Duration: {portfolio_duration:.4f}\")\n",
    "print(f\"Portfolio Weighted Convexity: {portfolio_convexity:.4f}\")\n",
    "scenarios = {\n",
    "    \"Interest Rate +50bp\": 0.005,\n",
    "    \"Interest Rate +100bp\": 0.010,\n",
    "    \"Interest Rate -50bp\": -0.005,\n",
    "    \"Interest Rate -100bp\": -0.010\n",
    "}\n",
    "\n",
    "print(\"\\nInterest Rate Shock Analysis:\")\n",
    "for name, delta_y in scenarios.items():\n",
    "    price_change = -portfolio_duration * delta_y + 0.5 * portfolio_convexity * (delta_y)**2\n",
    "    print(f\"{name}: Expected Portfolio Change = {price_change*100:.2f}%\")"
   ]
  },
  {
   "cell_type": "markdown",
   "id": "fa5eb845-aa09-4aad-a263-fbaa18dfa247",
   "metadata": {},
   "source": [
    "## backtesting for section 4.2"
   ]
  },
  {
   "cell_type": "code",
   "execution_count": null,
   "id": "854e0f4a-0a7a-41a1-9432-2534dd3eca24",
   "metadata": {},
   "outputs": [
    {
     "name": "stdout",
     "output_type": "stream",
     "text": [
      "Final Cumulative Return: 8.47%\n",
      "Annualized Return: 11.45%\n",
      "Annualized Volatility: 7.68%\n",
      "Sharpe Ratio: 1.49\n"
     ]
    },
    {
     "data": {
      "image/png": "[encoded data removed]",
      "text/plain": [
       "<Figure size 1000x600 with 1 Axes>"
      ]
     },
     "metadata": {},
     "output_type": "display_data"
    }
   ],
   "source": [
    "returns = price_df.pct_change().dropna()\n",
    "returns = returns.loc['2023-01-01':'2024-01-01']\n",
    "initial_capital = 100\n",
    "conf_level = 0.95\n",
    "alpha = 1 - conf_level\n",
    "portfolio_value = [initial_capital]\n",
    "portfolio_weights = []\n",
    "dates = returns.index\n",
    "\n",
    "for i in range(3, len(dates)):\n",
    "    past_returns = returns.iloc[i-3:i]\n",
    "    \n",
    "    mu = past_returns.mean()\n",
    "    cov = past_returns.cov()\n",
    "    n = len(mu)\n",
    "    w = cp.Variable(n)\n",
    "    portfolio_return = mu.values @ w\n",
    "    portfolio_risk = cp.quad_form(w, cov.values)\n",
    "    objective = cp.Maximize(portfolio_return - 0.5 * portfolio_risk)\n",
    "    \n",
    "    constraints = [cp.sum(w) == 1, w >= 0]\n",
    "    prob = cp.Problem(objective, constraints)\n",
    "    prob.solve()\n",
    "    opt_w = w.value\n",
    "    portfolio_weights.append(opt_w)\n",
    "    current_return = returns.iloc[i] @ opt_w\n",
    "    new_value = portfolio_value[-1] * (1 + current_return)\n",
    "    portfolio_value.append(new_value)\n",
    "\n",
    "portfolio_value = pd.Series(portfolio_value[1:], index=dates[3:])\n",
    "portfolio_returns = portfolio_value.pct_change().dropna()\n",
    "\n",
    "cumulative_return = (portfolio_value.iloc[-1] / initial_capital - 1) * 100\n",
    "annualized_return = ((portfolio_value.iloc[-1] / initial_capital) ** (12/len(portfolio_value)) - 1) * 100\n",
    "annualized_volatility = portfolio_returns.std() * np.sqrt(12) * 100\n",
    "sharpe_ratio = (annualized_return - 0) / annualized_volatility \n",
    "\n",
    "print(f\"Final Cumulative Return: {cumulative_return:.2f}%\")\n",
    "print(f\"Annualized Return: {annualized_return:.2f}%\")\n",
    "print(f\"Annualized Volatility: {annualized_volatility:.2f}%\")\n",
    "print(f\"Sharpe Ratio: {sharpe_ratio:.2f}\")\n",
    "\n",
    "plt.figure(figsize=(10,6))\n",
    "plt.plot(portfolio_value)\n",
    "plt.title('Portfolio Value Over Time')\n",
    "plt.xlabel('Date')\n",
    "plt.ylabel('Portfolio Value')\n",
    "plt.grid(True)\n",
    "plt.show()\n"
   ]
  },
  {
   "cell_type": "code",
   "execution_count": null,
   "id": "47af81cf-2bcb-4c99-bdbd-6d10089962ed",
   "metadata": {},
   "outputs": [],
   "source": []
  }
 ],
 "metadata": {
  "kernelspec": {
   "display_name": "base",
   "language": "python",
   "name": "python3"
  },
  "language_info": {
   "codemirror_mode": {
    "name": "ipython",
    "version": 3
   },
   "file_extension": ".py",
   "mimetype": "text/x-python",
   "name": "python",
   "nbconvert_exporter": "python",
   "pygments_lexer": "ipython3",
   "version": "3.12.3"
  }
 },
 "nbformat": 4,
 "nbformat_minor": 5
}
